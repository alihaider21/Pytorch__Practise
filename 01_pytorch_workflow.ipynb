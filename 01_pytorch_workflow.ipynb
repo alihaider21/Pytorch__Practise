{
 "cells": [
  {
   "cell_type": "markdown",
   "id": "d3dcb678-483b-4cb7-b2ae-2014a7be6c95",
   "metadata": {},
   "source": [
    "# PyTorch Workflow\n",
    "\n",
    "Let's Explore a an exmaple PyTorch end-to-end workflow.\n"
   ]
  },
  {
   "cell_type": "code",
   "execution_count": 1,
   "id": "2bfd0d09-9ea7-4257-9e7b-b1be3bc36b69",
   "metadata": {},
   "outputs": [],
   "source": [
    "import numpy as np \n",
    "import pandas as pd\n",
    "import matplotlib.pyplot as plt\n",
    "import torch"
   ]
  },
  {
   "cell_type": "code",
   "execution_count": 2,
   "id": "61590bc8-2a20-4c81-b008-b4bcc75a62b1",
   "metadata": {},
   "outputs": [
    {
     "data": {
      "text/plain": [
       "{1: 'data (perpare and load)',\n",
       " 2: 'Build model',\n",
       " 3: 'Fitting the model to data (training)',\n",
       " 4: 'Making predictions and evaulating a model (inference)',\n",
       " 5: 'saving and loading a model',\n",
       " 6: 'Putting it all toegthere'}"
      ]
     },
     "execution_count": 2,
     "metadata": {},
     "output_type": "execute_result"
    }
   ],
   "source": [
    "what_we_were_covering = {1: \"data (perpare and load)\",\n",
    "                        2: \"Build model\",\n",
    "                        3: \"Fitting the model to data (training)\",\n",
    "                        4: \"Making predictions and evaulating a model (inference)\",\n",
    "                        5: \"saving and loading a model\",\n",
    "                        6: \"Putting it all toegthere\"}\n",
    "\n",
    "what_we_were_covering"
   ]
  },
  {
   "cell_type": "code",
   "execution_count": 3,
   "id": "ccf0d640-0f37-4a4a-a38f-39d1c7b7a529",
   "metadata": {},
   "outputs": [
    {
     "data": {
      "text/plain": [
       "'1.12.1'"
      ]
     },
     "execution_count": 3,
     "metadata": {},
     "output_type": "execute_result"
    }
   ],
   "source": [
    "import torch\n",
    "from torch import nn # nn contains all of Pytroch's building blocks for neural networks\n",
    "import matplotlib.pyplot as plt\n",
    "\n",
    "# Check PyTorch version\n",
    "torch.__version__"
   ]
  },
  {
   "cell_type": "markdown",
   "id": "f59ee72a-f83b-479e-a82b-55dc688de26f",
   "metadata": {},
   "source": [
    "## Data (Preparing and Loading)\n",
    "\n",
    "Data can be almost anything... in machine learning.\n",
    "\n",
    "* Excel spreadsheet\n",
    "* Image of any kind\n",
    "* Video\n",
    "* Audio like songs or podcast\n",
    "* DNA \n",
    "* Text\n",
    "\n",
    "Machine learning is a game of two parts:\n",
    "\n",
    "1. Get data into a numerical representation\n",
    "2. Build model to learn those representation\n",
    "\n",
    "To Showcase this, let's create some *known* data using the linear regression formula\n",
    "\n",
    "we'll use linear regression formula to make a straight line with known **parameters.**"
   ]
  },
  {
   "cell_type": "code",
   "execution_count": 4,
   "id": "1b156e89-c4ca-4539-9b1c-f8f9d26e0070",
   "metadata": {},
   "outputs": [
    {
     "data": {
      "text/plain": [
       "(tensor([[0.0000],\n",
       "         [0.0200],\n",
       "         [0.0400],\n",
       "         [0.0600],\n",
       "         [0.0800],\n",
       "         [0.1000],\n",
       "         [0.1200],\n",
       "         [0.1400],\n",
       "         [0.1600],\n",
       "         [0.1800]]),\n",
       " tensor([[0.3000],\n",
       "         [0.3140],\n",
       "         [0.3280],\n",
       "         [0.3420],\n",
       "         [0.3560],\n",
       "         [0.3700],\n",
       "         [0.3840],\n",
       "         [0.3980],\n",
       "         [0.4120],\n",
       "         [0.4260]]))"
      ]
     },
     "execution_count": 4,
     "metadata": {},
     "output_type": "execute_result"
    }
   ],
   "source": [
    "# Create *known* parameters\n",
    "weight = 0.7\n",
    "bias = 0.3\n",
    "\n",
    "# Create some data here\n",
    "start = 0\n",
    "end = 1\n",
    "step = 0.02\n",
    "X = torch.arange(start, end, step).unsqueeze(dim=1)\n",
    "y = weight * X + bias\n",
    "\n",
    "X[:10], y[:10]"
   ]
  },
  {
   "cell_type": "code",
   "execution_count": 5,
   "id": "880c63b3-46a3-4558-9aac-012cfbb500b4",
   "metadata": {},
   "outputs": [
    {
     "data": {
      "text/plain": [
       "(50, 50)"
      ]
     },
     "execution_count": 5,
     "metadata": {},
     "output_type": "execute_result"
    }
   ],
   "source": [
    "len(X), len(y)"
   ]
  },
  {
   "cell_type": "code",
   "execution_count": 6,
   "id": "0552cceb-f38a-4291-9f4d-0aeb2b8934b7",
   "metadata": {},
   "outputs": [
    {
     "data": {
      "text/plain": [
       "(40, 10, 40, 10)"
      ]
     },
     "execution_count": 6,
     "metadata": {},
     "output_type": "execute_result"
    }
   ],
   "source": [
    "### Splitting data into training and test sets (one of the most important concepts in machine learning in genral)\n",
    "train_split  = int(0.8 * len(X))\n",
    "X_train, y_train = X[:train_split] , y[:train_split]\n",
    "X_test, y_test = X[train_split:] , y[train_split:]\n",
    "\n",
    "len(X_train) , len(X_test) , len(y_train), len(y_test),"
   ]
  },
  {
   "cell_type": "code",
   "execution_count": 7,
   "id": "991f4f81-0c46-4295-a5eb-4080d99d0c04",
   "metadata": {},
   "outputs": [
    {
     "data": {
      "text/plain": [
       "40"
      ]
     },
     "execution_count": 7,
     "metadata": {},
     "output_type": "execute_result"
    }
   ],
   "source": [
    "train_split"
   ]
  },
  {
   "cell_type": "markdown",
   "id": "8ecc5d32-1ee7-45fb-a767-c8495ccfd517",
   "metadata": {},
   "source": [
    "How might we better visualize our data?\n",
    "\n",
    "This is where the data explorer's motto comes in!\n",
    "\n",
    "\"Visualize, Visualize, Visualize!\""
   ]
  },
  {
   "cell_type": "code",
   "execution_count": 8,
   "id": "f6cd45c8-a324-48bf-8583-6956d9a7da24",
   "metadata": {},
   "outputs": [],
   "source": [
    "def plot_predictions(train_data = X_train,\n",
    "                    train_label = y_train,\n",
    "                    test_data = X_test,\n",
    "                    test_labels = y_test,\n",
    "                    predictions=None):\n",
    "    \n",
    "    \"\"\"\n",
    "    Plots training data, test data and compares predictions\n",
    "    \"\"\"\n",
    "    plt.figure(figsize=(7,5))\n",
    "\n",
    "    # plot training data in blue\n",
    "    plt.scatter(train_data, train_label, c='b', s=4, label='Training data')\n",
    "\n",
    "    # plot test data in green\n",
    "    plt.scatter(test_data, test_labels, c='g', s=4, label='Testing data')\n",
    " \n",
    "    # Are these predictions?\n",
    "    if predictions is not None:\n",
    "        plt.scatter(test_data, predictions , c='r' , s=4 , label='Predictions')\n",
    "    \n",
    "    plt.legend(prop={'size': 14});\n",
    "        "
   ]
  },
  {
   "cell_type": "code",
   "execution_count": 9,
   "id": "bbc53ca4-3ee1-4cdb-a4e4-f60aceee580c",
   "metadata": {},
   "outputs": [
    {
     "data": {
      "image/png": "[encoded data removed]",
      "text/plain": [
       "<Figure size 700x500 with 1 Axes>"
      ]
     },
     "metadata": {},
     "output_type": "display_data"
    }
   ],
   "source": [
    "plot_predictions();"
   ]
  },
  {
   "cell_type": "markdown",
   "id": "e948e8f8-d861-4b79-8bf3-f0bb0df3ad77",
   "metadata": {},
   "source": [
    "## 2. Build model\n",
    "\n",
    "Our first Pytorch model!\n",
    "\n",
    "This is very exciting...let's do it!\n",
    "\n",
    "**What our model does:**\n",
    "* Start with random Vales\n",
    "* Look at training data and adjust the random values to better represent (or get closer to) the ideal vales (the weights & bias values we need to create we used to create the data)\n",
    "\n",
    "**How does it do so?**\n",
    "\n",
    "Through two main algorithim\n",
    "1. Gradient Descent \n",
    "2. Backpropagtion"
   ]
  },
  {
   "cell_type": "code",
   "execution_count": 10,
   "id": "3fabb631-c059-4143-86d0-e8fe5f94777e",
   "metadata": {},
   "outputs": [],
   "source": [
    "#create linear regression model class\n",
    "from torch import nn\n",
    "\n",
    "class LinearRegressionModel(nn.Module):\n",
    "    def __init__(self):\n",
    "        super().__init__()\n",
    "        \n",
    "        self.weights = nn.Parameter(torch.randn(1, requires_grad=True, dtype=torch.float))\n",
    "        self.bias = nn.Parameter(torch.randn(1, requires_grad=True, dtype=torch.float))\n",
    "    \n",
    "    # forward method to define the computation in the model\n",
    "    def forward(self, x: torch.tensor) -> torch.tensor:\n",
    "        return self.weights * x + self.bias # This is the linear regression"
   ]
  },
  {
   "cell_type": "markdown",
   "id": "ed092be4-7130-4c6c-af1f-4922f3ef2bdb",
   "metadata": {},
   "source": [
    "### Pytorch building essentials\n",
    "* torch.nn - contains all of the buildings for computatinol graphs (a neural networks can be considered a computatinol graph)\n",
    "* torch.nn.Parameters - what parameters should our model try and learn, often a Pytorch layer from torch.nn will set these for us\n",
    "* torch.nn.Module - The Base class for all neural network modules, if you subclass it, you should overwrite forward()\n",
    "* torch.optim - This is where optimzer in pytorch live, they will help with gradient descent  \n",
    "* def forward() - All nn.Module subclasses require you to overwrite forward(), this method defines what happens in the forward computation"
   ]
  },
  {
   "cell_type": "markdown",
   "id": "d9cac0cf-4437-4460-a6e5-63d86e095c1b",
   "metadata": {},
   "source": [
    "## Checking the content of our Pytorch model\n",
    "\n",
    "Now we've created a model, let's see what's inside...\n",
    "\n",
    "So we can check our model parameters or what's inside our model using .parameters()."
   ]
  },
  {
   "cell_type": "code",
   "execution_count": 11,
   "id": "cf98fb25-e4be-43da-8213-f88ebf125129",
   "metadata": {},
   "outputs": [
    {
     "data": {
      "text/plain": [
       "[Parameter containing:\n",
       " tensor([0.3367], requires_grad=True),\n",
       " Parameter containing:\n",
       " tensor([0.1288], requires_grad=True)]"
      ]
     },
     "execution_count": 11,
     "metadata": {},
     "output_type": "execute_result"
    }
   ],
   "source": [
    "# Create a random seed\n",
    "torch.manual_seed(42)\n",
    "\n",
    "# Create an instance of the model (this is a subclass of nn.Module)\n",
    "model_0 = LinearRegressionModel()\n",
    "\n",
    "# Check out the parameters\n",
    "list(model_0.parameters())"
   ]
  },
  {
   "cell_type": "code",
   "execution_count": 12,
   "id": "fe69f683-2f2f-4739-b34a-a441f3d0ce57",
   "metadata": {},
   "outputs": [
    {
     "data": {
      "text/plain": [
       "OrderedDict([('weights', tensor([0.3367])), ('bias', tensor([0.1288]))])"
      ]
     },
     "execution_count": 12,
     "metadata": {},
     "output_type": "execute_result"
    }
   ],
   "source": [
    "model_0.state_dict()"
   ]
  },
  {
   "cell_type": "code",
   "execution_count": 13,
   "id": "004e39b6-7033-4f5d-b76d-d2a83088ff98",
   "metadata": {},
   "outputs": [
    {
     "data": {
      "text/plain": [
       "(0.7, 0.3)"
      ]
     },
     "execution_count": 13,
     "metadata": {},
     "output_type": "execute_result"
    }
   ],
   "source": [
    "weight, bias"
   ]
  },
  {
   "cell_type": "markdown",
   "id": "b8d6c005-46af-4468-8ed4-cef4b675779e",
   "metadata": {},
   "source": [
    "## Making prediction using `torch.inference_mode()\n",
    "\n",
    "To check our model's predictive power, let's see how well it predictive `y_test` based on `x_test`\n",
    "\n",
    "When we pass data through our model, it's going to run it through the `forward` method."
   ]
  },
  {
   "cell_type": "code",
   "execution_count": 14,
   "id": "45384343-a947-4daf-b396-1e3a1aa55d67",
   "metadata": {},
   "outputs": [
    {
     "data": {
      "text/plain": [
       "tensor([[0.3982],\n",
       "        [0.4049],\n",
       "        [0.4116],\n",
       "        [0.4184],\n",
       "        [0.4251],\n",
       "        [0.4318],\n",
       "        [0.4386],\n",
       "        [0.4453],\n",
       "        [0.4520],\n",
       "        [0.4588]])"
      ]
     },
     "execution_count": 14,
     "metadata": {},
     "output_type": "execute_result"
    }
   ],
   "source": [
    "with torch.inference_mode():\n",
    "    y_preds = model_0(X_test)\n",
    "    \n",
    "y_preds"
   ]
  },
  {
   "cell_type": "code",
   "execution_count": 15,
   "id": "682ed1f9-6207-4ac2-a249-ff860d679d16",
   "metadata": {},
   "outputs": [
    {
     "data": {
      "image/png": "[encoded data removed]",
      "text/plain": [
       "<Figure size 700x500 with 1 Axes>"
      ]
     },
     "metadata": {},
     "output_type": "display_data"
    }
   ],
   "source": [
    "plot_predictions(predictions=y_preds)"
   ]
  },
  {
   "cell_type": "markdown",
   "id": "34f0d2e3-446f-4a26-acc0-ae2adaf71368",
   "metadata": {},
   "source": [
    "## 3. Train model\n",
    "\n",
    "The whole idea of training is for a model to move from some *unknow* parameters (these may be random) to some *knows* parameters.\n",
    "\n",
    "or in the other words from a poor representaion of the data to a better representation of the data.\n",
    "\n",
    "one way to measure how poor or how wrong your models predictions are is to use a loss function\n",
    "\n",
    "* Note loss function may also called cost function or criterion in different areas. For our case, we're going to refer to it as a loss function\n",
    "\n",
    "Things we need to train\n",
    "\n",
    "* **Loss function:** A function to measure how wrong your model's predictions are to the to the ideal outputs. Lower is better\n",
    "\n",
    "* **Optimizers.** Take into account the loss of a model and adjusts the models' parameters (e.g. weighs & bias)"
   ]
  },
  {
   "cell_type": "code",
   "execution_count": 16,
   "id": "3d8237b8-7a5a-4357-9b72-4a41d058e988",
   "metadata": {},
   "outputs": [
    {
     "data": {
      "text/plain": [
       "[Parameter containing:\n",
       " tensor([0.3367], requires_grad=True),\n",
       " Parameter containing:\n",
       " tensor([0.1288], requires_grad=True)]"
      ]
     },
     "execution_count": 16,
     "metadata": {},
     "output_type": "execute_result"
    }
   ],
   "source": [
    "list(model_0.parameters())"
   ]
  },
  {
   "cell_type": "code",
   "execution_count": 17,
   "id": "451a4ac3-7ac3-461e-87c7-77747f0f5c5c",
   "metadata": {},
   "outputs": [
    {
     "data": {
      "text/plain": [
       "OrderedDict([('weights', tensor([0.3367])), ('bias', tensor([0.1288]))])"
      ]
     },
     "execution_count": 17,
     "metadata": {},
     "output_type": "execute_result"
    }
   ],
   "source": [
    "model_0.state_dict()"
   ]
  },
  {
   "cell_type": "code",
   "execution_count": 18,
   "id": "7bffce3d-4ed7-472f-a25b-cc38ee857be4",
   "metadata": {},
   "outputs": [],
   "source": [
    "# setup a loss function\n",
    "loss_fn = nn.L1Loss()\n",
    "\n",
    "#setup an optimzer\n",
    "optimizer  = torch.optim.SGD(params=model_0.parameters(), lr=0.01)"
   ]
  },
  {
   "cell_type": "code",
   "execution_count": 19,
   "id": "51ed4108-8e9c-4b5c-8a2f-c70d6b35c668",
   "metadata": {},
   "outputs": [
    {
     "data": {
      "text/plain": [
       "L1Loss()"
      ]
     },
     "execution_count": 19,
     "metadata": {},
     "output_type": "execute_result"
    }
   ],
   "source": [
    "loss_fn"
   ]
  },
  {
   "cell_type": "markdown",
   "id": "ef92c7df-a5a7-487d-bc11-b539619c9129",
   "metadata": {},
   "source": [
    "### Building Training loop in Pytorch \n",
    "\n",
    "A couple to things we need in a training loop\n",
    "0. Loop though the data\n",
    "1. Forward Pass (this involves data moving thourgh our model's `forward()`\n",
    "2. Calculate the loss (Compare the forward pass predictions to ground truth lables)\n",
    "3. Optimzer zero grad\n",
    "4. Loss Backward - move backward throgh the network to calculate the gradients of each parameter of our model with respect to the loss (**backpropagation**)\n",
    "5. Optimizer step - use optimzer to adjust our model parameters to try and improve the loss (**Gradient Descents**)"
   ]
  },
  {
   "cell_type": "code",
   "execution_count": null,
   "id": "438fa6a2-a64c-4201-9a38-d18a474b6e95",
   "metadata": {},
   "outputs": [],
   "source": []
  },
  {
   "cell_type": "code",
   "execution_count": 20,
   "id": "e84f7edd-5c55-46bd-9c91-8cda0fba0d25",
   "metadata": {},
   "outputs": [
    {
     "name": "stdout",
     "output_type": "stream",
     "text": [
      "Epoch: 0 | Loss: 0.31288138031959534 | Test Loss: 0.48106518387794495\n",
      "OrderedDict([('weights', tensor([0.3406])), ('bias', tensor([0.1388]))])\n",
      "Epoch: 10 | Loss: 0.1976713240146637 | Test Loss: 0.3463551998138428\n",
      "OrderedDict([('weights', tensor([0.3796])), ('bias', tensor([0.2388]))])\n",
      "Epoch: 20 | Loss: 0.08908725529909134 | Test Loss: 0.21729660034179688\n",
      "OrderedDict([('weights', tensor([0.4184])), ('bias', tensor([0.3333]))])\n",
      "Epoch: 30 | Loss: 0.053148526698350906 | Test Loss: 0.14464017748832703\n",
      "OrderedDict([('weights', tensor([0.4512])), ('bias', tensor([0.3768]))])\n",
      "Epoch: 40 | Loss: 0.04543796554207802 | Test Loss: 0.11360953003168106\n",
      "OrderedDict([('weights', tensor([0.4748])), ('bias', tensor([0.3868]))])\n",
      "Epoch: 50 | Loss: 0.04167863354086876 | Test Loss: 0.09919948130846024\n",
      "OrderedDict([('weights', tensor([0.4938])), ('bias', tensor([0.3843]))])\n",
      "Epoch: 60 | Loss: 0.03818932920694351 | Test Loss: 0.08886633068323135\n",
      "OrderedDict([('weights', tensor([0.5116])), ('bias', tensor([0.3788]))])\n",
      "Epoch: 70 | Loss: 0.03476089984178543 | Test Loss: 0.0805937647819519\n",
      "OrderedDict([('weights', tensor([0.5288])), ('bias', tensor([0.3718]))])\n",
      "Epoch: 80 | Loss: 0.03132382780313492 | Test Loss: 0.07232122868299484\n",
      "OrderedDict([('weights', tensor([0.5459])), ('bias', tensor([0.3648]))])\n",
      "Epoch: 90 | Loss: 0.02788739837706089 | Test Loss: 0.06473556160926819\n",
      "OrderedDict([('weights', tensor([0.5629])), ('bias', tensor([0.3573]))])\n",
      "Epoch: 100 | Loss: 0.024458957836031914 | Test Loss: 0.05646304413676262\n",
      "OrderedDict([('weights', tensor([0.5800])), ('bias', tensor([0.3503]))])\n",
      "Epoch: 110 | Loss: 0.021020207554101944 | Test Loss: 0.04819049686193466\n",
      "OrderedDict([('weights', tensor([0.5972])), ('bias', tensor([0.3433]))])\n",
      "Epoch: 120 | Loss: 0.01758546568453312 | Test Loss: 0.04060482233762741\n",
      "OrderedDict([('weights', tensor([0.6141])), ('bias', tensor([0.3358]))])\n",
      "Epoch: 130 | Loss: 0.014155393466353416 | Test Loss: 0.03233227878808975\n",
      "OrderedDict([('weights', tensor([0.6313])), ('bias', tensor([0.3288]))])\n",
      "Epoch: 140 | Loss: 0.010716589167714119 | Test Loss: 0.024059748277068138\n",
      "OrderedDict([('weights', tensor([0.6485])), ('bias', tensor([0.3218]))])\n",
      "Epoch: 150 | Loss: 0.0072835334576666355 | Test Loss: 0.016474086791276932\n",
      "OrderedDict([('weights', tensor([0.6654])), ('bias', tensor([0.3143]))])\n",
      "Epoch: 160 | Loss: 0.0038517764769494534 | Test Loss: 0.008201557211577892\n",
      "OrderedDict([('weights', tensor([0.6826])), ('bias', tensor([0.3073]))])\n",
      "Epoch: 170 | Loss: 0.008932482451200485 | Test Loss: 0.005023092031478882\n",
      "OrderedDict([('weights', tensor([0.6951])), ('bias', tensor([0.2993]))])\n",
      "Epoch: 180 | Loss: 0.008932482451200485 | Test Loss: 0.005023092031478882\n",
      "OrderedDict([('weights', tensor([0.6951])), ('bias', tensor([0.2993]))])\n",
      "Epoch: 190 | Loss: 0.008932482451200485 | Test Loss: 0.005023092031478882\n",
      "OrderedDict([('weights', tensor([0.6951])), ('bias', tensor([0.2993]))])\n"
     ]
    }
   ],
   "source": [
    "# An epoch is one loop through the data... (This is a hyperparameter because we've set it ourselves)\n",
    "epochs = 200\n",
    "\n",
    "epochs_count = []\n",
    "loss_values = []\n",
    "test_loss_values = []\n",
    "\n",
    "\n",
    "\n",
    "# 0. Loop Thorugh the data\n",
    "for epoch in range(epochs):\n",
    "    #Set the model to training \n",
    "    model_0.train() #train mode in pytorch sets all parameters that require gradients to require gradients\n",
    "    \n",
    "    #1. Forward pass\n",
    "    y_pred = model_0(X_train)\n",
    "    \n",
    "    #2. Calculate the loss\n",
    "    loss = loss_fn(y_pred,y_train)\n",
    "    \n",
    "    #3. Optimizer Zero grad\n",
    "    optimizer.zero_grad()\n",
    "    \n",
    "    #4. Perform backpropagation on the loss with respect to the parameters of the model\n",
    "    loss.backward()\n",
    "    \n",
    "    #5. Step the optimizer (Perform gradient descent)\n",
    "    optimizer.step()\n",
    "    \n",
    "    model_0.eval() #turns off different settings in the model not needed for evaluation/testing  (droptout/bath norm) layers)\n",
    "    \n",
    "    with torch.inference_mode():\n",
    "        #1. Do the forward pass\n",
    "        test_pred = model_0(X_test)\n",
    "        \n",
    "        #calculate the loss\n",
    "        test_loss = loss_fn(test_pred, y_test)\n",
    "    #print out what's happening\n",
    "    if epoch % 10 == 0:\n",
    "        epochs_count.append(epoch)\n",
    "        loss_values.append(loss)\n",
    "        test_loss_values.append(test_loss)\n",
    "        print(f\"Epoch: {epoch} | Loss: {loss} | Test Loss: {test_loss}\")\n",
    "        \n",
    "        #print out the state dictionary\n",
    "        print(model_0.state_dict())"
   ]
  },
  {
   "cell_type": "code",
   "execution_count": 21,
   "id": "55511385-d8cf-4e1f-9f63-33e56097eee9",
   "metadata": {},
   "outputs": [
    {
     "data": {
      "text/plain": [
       "[Parameter containing:\n",
       " tensor([0.6990], requires_grad=True),\n",
       " Parameter containing:\n",
       " tensor([0.3093], requires_grad=True)]"
      ]
     },
     "execution_count": 21,
     "metadata": {},
     "output_type": "execute_result"
    }
   ],
   "source": [
    "list(model_0.parameters())"
   ]
  },
  {
   "cell_type": "code",
   "execution_count": 22,
   "id": "893f6fad-de88-456b-bfb3-eac316cb9a45",
   "metadata": {},
   "outputs": [],
   "source": [
    "with torch.inference_mode():\n",
    "    y_pred_new = model_0(X_test)"
   ]
  },
  {
   "cell_type": "code",
   "execution_count": 23,
   "id": "b6b01236-abac-404e-a0b8-3a62fda19971",
   "metadata": {},
   "outputs": [
    {
     "data": {
      "text/plain": [
       "tensor([[0.8685],\n",
       "        [0.8825],\n",
       "        [0.8965],\n",
       "        [0.9105],\n",
       "        [0.9245],\n",
       "        [0.9384],\n",
       "        [0.9524],\n",
       "        [0.9664],\n",
       "        [0.9804],\n",
       "        [0.9944]])"
      ]
     },
     "execution_count": 23,
     "metadata": {},
     "output_type": "execute_result"
    }
   ],
   "source": [
    "y_pred_new"
   ]
  },
  {
   "cell_type": "code",
   "execution_count": 24,
   "id": "059a1d02-aa50-4e67-b2cf-fb8ec525dc13",
   "metadata": {},
   "outputs": [
    {
     "data": {
      "image/png": "[encoded data removed]",
      "text/plain": [
       "<Figure size 700x500 with 1 Axes>"
      ]
     },
     "metadata": {},
     "output_type": "display_data"
    }
   ],
   "source": [
    "plot_predictions(predictions=y_pred_new)"
   ]
  },
  {
   "cell_type": "code",
   "execution_count": 25,
   "id": "2eb970a4-6855-4e50-8fd2-b09dde1b5e01",
   "metadata": {},
   "outputs": [
    {
     "data": {
      "text/plain": [
       "[tensor(0.4811),\n",
       " tensor(0.3464),\n",
       " tensor(0.2173),\n",
       " tensor(0.1446),\n",
       " tensor(0.1136),\n",
       " tensor(0.0992),\n",
       " tensor(0.0889),\n",
       " tensor(0.0806),\n",
       " tensor(0.0723),\n",
       " tensor(0.0647),\n",
       " tensor(0.0565),\n",
       " tensor(0.0482),\n",
       " tensor(0.0406),\n",
       " tensor(0.0323),\n",
       " tensor(0.0241),\n",
       " tensor(0.0165),\n",
       " tensor(0.0082),\n",
       " tensor(0.0050),\n",
       " tensor(0.0050),\n",
       " tensor(0.0050)]"
      ]
     },
     "execution_count": 25,
     "metadata": {},
     "output_type": "execute_result"
    }
   ],
   "source": [
    "# epochs_count\n",
    "# loss_values\n",
    "test_loss_values"
   ]
  },
  {
   "cell_type": "code",
   "execution_count": 26,
   "id": "c662e1dc-24f4-4aba-96a9-5b7640001bd7",
   "metadata": {},
   "outputs": [
    {
     "data": {
      "text/plain": [
       "array([0.31288138, 0.19767132, 0.08908726, 0.05314853, 0.04543797,\n",
       "       0.04167863, 0.03818933, 0.0347609 , 0.03132383, 0.0278874 ,\n",
       "       0.02445896, 0.02102021, 0.01758547, 0.01415539, 0.01071659,\n",
       "       0.00728353, 0.00385178, 0.00893248, 0.00893248, 0.00893248],\n",
       "      dtype=float32)"
      ]
     },
     "execution_count": 26,
     "metadata": {},
     "output_type": "execute_result"
    }
   ],
   "source": [
    "np.array(torch.tensor(loss_values).numpy())"
   ]
  },
  {
   "cell_type": "code",
   "execution_count": 27,
   "id": "ae1072c3-69ef-4213-b93e-3a0845eda961",
   "metadata": {},
   "outputs": [
    {
     "data": {
      "image/png": "[encoded data removed]",
      "text/plain": [
       "<Figure size 640x480 with 1 Axes>"
      ]
     },
     "metadata": {},
     "output_type": "display_data"
    }
   ],
   "source": [
    "plt.plot(epochs_count, np.array(torch.tensor(loss_values).numpy()), label = 'Train Loss')\n",
    "plt.plot(epochs_count, test_loss_values, label = 'Test loss')\n",
    "plt.xlabel('Loss Values')\n",
    "plt.ylabel('Epochs Count')\n",
    "plt.legend()\n",
    "plt.show()"
   ]
  },
  {
   "cell_type": "code",
   "execution_count": 28,
   "id": "16d307db-e5db-4324-9a5c-4083287cbb4a",
   "metadata": {},
   "outputs": [
    {
     "data": {
      "text/plain": [
       "OrderedDict([('weights', tensor([0.6990])), ('bias', tensor([0.3093]))])"
      ]
     },
     "execution_count": 28,
     "metadata": {},
     "output_type": "execute_result"
    }
   ],
   "source": [
    "model_0.state_dict()"
   ]
  },
  {
   "cell_type": "markdown",
   "id": "ed2247b9-01c0-4807-95ea-4068103de233",
   "metadata": {},
   "source": [
    "### There are three method which we can use to save and load model in pytorch\n",
    "\n",
    "1. `torch.save()` allow you to save a PyTorch object into pickle format\n",
    "\n",
    "2. `torch.load()` allow you load a saved PyTorch object \n",
    "\n",
    "3. `torch.nn.Module.load_state_dict`  - this allow to load a model's saved state dicitionary"
   ]
  },
  {
   "cell_type": "code",
   "execution_count": 31,
   "id": "85324ec2-527e-46e9-aef7-71b132ee06e5",
   "metadata": {},
   "outputs": [
    {
     "name": "stdout",
     "output_type": "stream",
     "text": [
      "Saving model to model\\01_pytorch_workflow_model_0.pth\n"
     ]
    }
   ],
   "source": [
    "#Saving Pytorch Model\n",
    "from pathlib import Path\n",
    "\n",
    "# Create model dirctory\n",
    "MODEL_PATH =  Path(\"model\")\n",
    "MODEL_PATH.mkdir(parents=True, exist_ok=True)\n",
    "\n",
    "# Create model save path\n",
    "MODEL_NAME = '01_pytorch_workflow_model_0.pth'\n",
    "MODEL_SAVE_PATH = MODEL_PATH / MODEL_NAME\n",
    "\n",
    "# Save the model state dict \n",
    "print(f\"Saving model to {MODEL_SAVE_PATH }\")\n",
    "torch.save(obj=model_0.state_dict(),\n",
    "           f=MODEL_SAVE_PATH)\n"
   ]
  },
  {
   "cell_type": "markdown",
   "id": "58704647-2ab6-411e-babf-345960a02e60",
   "metadata": {},
   "source": [
    "### Loading Model"
   ]
  },
  {
   "cell_type": "code",
   "execution_count": 32,
   "id": "55518534-64c0-4b46-a8c7-216338aafede",
   "metadata": {},
   "outputs": [],
   "source": [
    "loaded_model = LinearRegressionModel()"
   ]
  },
  {
   "cell_type": "code",
   "execution_count": 34,
   "id": "a0dd41a6-2112-4ad1-9664-9ebd62921e6a",
   "metadata": {},
   "outputs": [
    {
     "data": {
      "text/plain": [
       "OrderedDict([('weights', tensor([0.2345])), ('bias', tensor([0.2303]))])"
      ]
     },
     "execution_count": 34,
     "metadata": {},
     "output_type": "execute_result"
    }
   ],
   "source": [
    "loaded_model.state_dict()"
   ]
  },
  {
   "cell_type": "code",
   "execution_count": 35,
   "id": "da11e6a9-be84-46a8-b34b-afd572f6d5e3",
   "metadata": {},
   "outputs": [
    {
     "data": {
      "text/plain": [
       "<All keys matched successfully>"
      ]
     },
     "execution_count": 35,
     "metadata": {},
     "output_type": "execute_result"
    }
   ],
   "source": [
    "loaded_model.load_state_dict(torch.load(f=MODEL_SAVE_PATH))"
   ]
  },
  {
   "cell_type": "code",
   "execution_count": 36,
   "id": "ed8eefd2-f362-4243-a39d-88e0f81221c8",
   "metadata": {},
   "outputs": [
    {
     "data": {
      "text/plain": [
       "OrderedDict([('weights', tensor([0.6990])), ('bias', tensor([0.3093]))])"
      ]
     },
     "execution_count": 36,
     "metadata": {},
     "output_type": "execute_result"
    }
   ],
   "source": [
    "loaded_model.state_dict()"
   ]
  },
  {
   "cell_type": "code",
   "execution_count": 38,
   "id": "305decf3-5910-44fe-9fa2-b02c9660c15f",
   "metadata": {},
   "outputs": [
    {
     "data": {
      "text/plain": [
       "tensor([[0.8685],\n",
       "        [0.8825],\n",
       "        [0.8965],\n",
       "        [0.9105],\n",
       "        [0.9245],\n",
       "        [0.9384],\n",
       "        [0.9524],\n",
       "        [0.9664],\n",
       "        [0.9804],\n",
       "        [0.9944]])"
      ]
     },
     "execution_count": 38,
     "metadata": {},
     "output_type": "execute_result"
    }
   ],
   "source": [
    "loaded_model.eval()\n",
    "with torch.inference_mode():\n",
    "    loaded_model_preds = loaded_model(X_test)\n",
    "    \n",
    "loaded_model_preds"
   ]
  },
  {
   "cell_type": "code",
   "execution_count": 39,
   "id": "5cb2151a-0f53-475b-9059-83929b80c663",
   "metadata": {},
   "outputs": [
    {
     "data": {
      "image/png": "[encoded data removed]",
      "text/plain": [
       "<Figure size 700x500 with 1 Axes>"
      ]
     },
     "metadata": {},
     "output_type": "display_data"
    }
   ],
   "source": [
    "plot_predictions(predictions=loaded_model_preds)"
   ]
  },
  {
   "cell_type": "code",
   "execution_count": null,
   "id": "33979bae-e304-48f4-81bf-012ac1b38081",
   "metadata": {},
   "outputs": [],
   "source": []
  },
  {
   "cell_type": "code",
   "execution_count": null,
   "id": "cd56f9eb-ca36-476a-9b5d-c88312270717",
   "metadata": {},
   "outputs": [],
   "source": []
  },
  {
   "cell_type": "code",
   "execution_count": null,
   "id": "21627c4c-42c0-49b0-ab20-83d98bafbd20",
   "metadata": {},
   "outputs": [],
   "source": []
  },
  {
   "cell_type": "code",
   "execution_count": null,
   "id": "c74827f8-a09c-45e7-945a-2d357ed1e98a",
   "metadata": {},
   "outputs": [],
   "source": []
  },
  {
   "cell_type": "code",
   "execution_count": null,
   "id": "80f0391d-fdeb-4094-8f00-1f8daac55b0f",
   "metadata": {},
   "outputs": [],
   "source": []
  },
  {
   "cell_type": "code",
   "execution_count": null,
   "id": "6f08ff93-3acb-4caf-ac07-e8bf3321abab",
   "metadata": {},
   "outputs": [],
   "source": []
  }
 ],
 "metadata": {
  "kernelspec": {
   "display_name": "Python 3 (ipykernel)",
   "language": "python",
   "name": "python3"
  },
  "language_info": {
   "codemirror_mode": {
    "name": "ipython",
    "version": 3
   },
   "file_extension": ".py",
   "mimetype": "text/x-python",
   "name": "python",
   "nbconvert_exporter": "python",
   "pygments_lexer": "ipython3",
   "version": "3.9.12"
  }
 },
 "nbformat": 4,
 "nbformat_minor": 5
}
