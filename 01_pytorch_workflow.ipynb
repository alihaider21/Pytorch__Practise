{
 "cells": [
  {
   "cell_type": "markdown",
   "id": "d3dcb678-483b-4cb7-b2ae-2014a7be6c95",
   "metadata": {},
   "source": [
    "# PyTorch Workflow\n",
    "\n",
    "Let's Explore a an exmaple PyTorch end-to-end workflow.\n"
   ]
  },
  {
   "cell_type": "code",
   "execution_count": 1,
   "id": "2bfd0d09-9ea7-4257-9e7b-b1be3bc36b69",
   "metadata": {},
   "outputs": [],
   "source": [
    "import numpy as np \n",
    "import pandas as pd\n",
    "import matplotlib.pyplot as plt\n",
    "import torch"
   ]
  },
  {
   "cell_type": "code",
   "execution_count": 2,
   "id": "61590bc8-2a20-4c81-b008-b4bcc75a62b1",
   "metadata": {},
   "outputs": [
    {
     "data": {
      "text/plain": [
       "{1: 'data (perpare and load)',\n",
       " 2: 'Build model',\n",
       " 3: 'Fitting the model to data (training)',\n",
       " 4: 'Making predictions and evaulating a model (inference)',\n",
       " 5: 'saving and loading a model',\n",
       " 6: 'Putting it all toegthere'}"
      ]
     },
     "execution_count": 2,
     "metadata": {},
     "output_type": "execute_result"
    }
   ],
   "source": [
    "what_we_were_covering = {1: \"data (perpare and load)\",\n",
    "                        2: \"Build model\",\n",
    "                        3: \"Fitting the model to data (training)\",\n",
    "                        4: \"Making predictions and evaulating a model (inference)\",\n",
    "                        5: \"saving and loading a model\",\n",
    "                        6: \"Putting it all toegthere\"}\n",
    "\n",
    "what_we_were_covering"
   ]
  },
  {
   "cell_type": "code",
   "execution_count": 3,
   "id": "ccf0d640-0f37-4a4a-a38f-39d1c7b7a529",
   "metadata": {},
   "outputs": [
    {
     "data": {
      "text/plain": [
       "'1.12.1'"
      ]
     },
     "execution_count": 3,
     "metadata": {},
     "output_type": "execute_result"
    }
   ],
   "source": [
    "import torch\n",
    "from torch import nn # nn contains all of Pytroch's building blocks for neural networks\n",
    "import matplotlib.pyplot as plt\n",
    "\n",
    "# Check PyTorch version\n",
    "torch.__version__"
   ]
  },
  {
   "cell_type": "markdown",
   "id": "f59ee72a-f83b-479e-a82b-55dc688de26f",
   "metadata": {},
   "source": [
    "## Data (Preparing and Loading)\n",
    "\n",
    "Data can be almost anything... in machine learning.\n",
    "\n",
    "* Excel spreadsheet\n",
    "* Image of any kind\n",
    "* Video\n",
    "* Audio like songs or podcast\n",
    "* DNA \n",
    "* Text\n",
    "\n",
    "Machine learning is a game of two parts:\n",
    "\n",
    "1. Get data into a numerical representation\n",
    "2. Build model to learn those representation\n",
    "\n",
    "To Showcase this, let's create some *known* data using the linear regression formula\n",
    "\n",
    "we'll use linear regression formula to make a straight line with known **parameters.**"
   ]
  },
  {
   "cell_type": "code",
   "execution_count": 4,
   "id": "1b156e89-c4ca-4539-9b1c-f8f9d26e0070",
   "metadata": {},
   "outputs": [
    {
     "data": {
      "text/plain": [
       "(tensor([[0.0000],\n",
       "         [0.0200],\n",
       "         [0.0400],\n",
       "         [0.0600],\n",
       "         [0.0800],\n",
       "         [0.1000],\n",
       "         [0.1200],\n",
       "         [0.1400],\n",
       "         [0.1600],\n",
       "         [0.1800]]),\n",
       " tensor([[0.3000],\n",
       "         [0.3140],\n",
       "         [0.3280],\n",
       "         [0.3420],\n",
       "         [0.3560],\n",
       "         [0.3700],\n",
       "         [0.3840],\n",
       "         [0.3980],\n",
       "         [0.4120],\n",
       "         [0.4260]]))"
      ]
     },
     "execution_count": 4,
     "metadata": {},
     "output_type": "execute_result"
    }
   ],
   "source": [
    "# Create *known* parameters\n",
    "weight = 0.7\n",
    "bias = 0.3\n",
    "\n",
    "# Create some data here\n",
    "start = 0\n",
    "end = 1\n",
    "step = 0.02\n",
    "X = torch.arange(start, end, step).unsqueeze(dim=1)\n",
    "y = weight * X + bias\n",
    "\n",
    "X[:10], y[:10]"
   ]
  },
  {
   "cell_type": "code",
   "execution_count": 5,
   "id": "880c63b3-46a3-4558-9aac-012cfbb500b4",
   "metadata": {},
   "outputs": [
    {
     "data": {
      "text/plain": [
       "(50, 50)"
      ]
     },
     "execution_count": 5,
     "metadata": {},
     "output_type": "execute_result"
    }
   ],
   "source": [
    "len(X), len(y)"
   ]
  },
  {
   "cell_type": "code",
   "execution_count": 6,
   "id": "0552cceb-f38a-4291-9f4d-0aeb2b8934b7",
   "metadata": {},
   "outputs": [
    {
     "data": {
      "text/plain": [
       "(40, 10, 40, 10)"
      ]
     },
     "execution_count": 6,
     "metadata": {},
     "output_type": "execute_result"
    }
   ],
   "source": [
    "### Splitting data into training and test sets (one of the most important concepts in machine learning in genral)\n",
    "train_split  = int(0.8 * len(X))\n",
    "X_train, y_train = X[:train_split] , y[:train_split]\n",
    "X_test, y_test = X[train_split:] , y[train_split:]\n",
    "\n",
    "len(X_train) , len(X_test) , len(y_train), len(y_test)"
   ]
  },
  {
   "cell_type": "code",
   "execution_count": 7,
   "id": "991f4f81-0c46-4295-a5eb-4080d99d0c04",
   "metadata": {},
   "outputs": [
    {
     "data": {
      "text/plain": [
       "40"
      ]
     },
     "execution_count": 7,
     "metadata": {},
     "output_type": "execute_result"
    }
   ],
   "source": [
    "train_split"
   ]
  },
  {
   "cell_type": "markdown",
   "id": "8ecc5d32-1ee7-45fb-a767-c8495ccfd517",
   "metadata": {},
   "source": [
    "How might we better visualize our data?\n",
    "\n",
    "This is where the data explorer's motto comes in!\n",
    "\n",
    "\"Visualize, Visualize, Visualize!\""
   ]
  },
  {
   "cell_type": "code",
   "execution_count": 8,
   "id": "f6cd45c8-a324-48bf-8583-6956d9a7da24",
   "metadata": {},
   "outputs": [],
   "source": [
    "def plot_predictions(train_data = X_train,\n",
    "                    train_label = y_train,\n",
    "                    test_data = X_test,\n",
    "                    test_labels = y_test,\n",
    "                    predictions=None):\n",
    "    \n",
    "    \"\"\"\n",
    "    Plots training data, test data and compares predictions\n",
    "    \"\"\"\n",
    "    plt.figure(figsize=(7,5))\n",
    "\n",
    "    # plot training data in blue\n",
    "    plt.scatter(train_data, train_label, c='b', s=4, label='Training data')\n",
    "\n",
    "    # plot test data in green\n",
    "    plt.scatter(test_data, test_labels, c='g', s=4, label='Testing data')\n",
    " \n",
    "    # Are these predictions?\n",
    "    if predictions is not None:\n",
    "        plt.scatter(test_data, predictions , c='r' , s=4 , label='Predictions')\n",
    "    \n",
    "    plt.legend(prop={'size': 14});\n",
    "        "
   ]
  },
  {
   "cell_type": "code",
   "execution_count": 9,
   "id": "bbc53ca4-3ee1-4cdb-a4e4-f60aceee580c",
   "metadata": {},
   "outputs": [
    {
     "data": {
      "image/png": "[encoded data removed]",
      "text/plain": [
       "<Figure size 700x500 with 1 Axes>"
      ]
     },
     "metadata": {},
     "output_type": "display_data"
    }
   ],
   "source": [
    "plot_predictions();"
   ]
  },
  {
   "cell_type": "markdown",
   "id": "e948e8f8-d861-4b79-8bf3-f0bb0df3ad77",
   "metadata": {},
   "source": [
    "## 2. Build model\n",
    "\n",
    "Our first Pytorch model!\n",
    "\n",
    "This is very exciting...let's do it!\n",
    "\n",
    "**What our model does:**\n",
    "* Start with random Vales\n",
    "* Look at training data and adjust the random values to better represent (or get closer to) the ideal vales (the weights & bias values we need to create we used to create the data)\n",
    "\n",
    "**How does it do so?**\n",
    "\n",
    "Through two main algorithim\n",
    "1. Gradient Descent \n",
    "2. Backpropagtion"
   ]
  },
  {
   "cell_type": "code",
   "execution_count": 18,
   "id": "3fabb631-c059-4143-86d0-e8fe5f94777e",
   "metadata": {},
   "outputs": [],
   "source": [
    "#create linear regression model class\n",
    "from torch import nn\n",
    "\n",
    "class LinearRegressionModel(nn.Module):\n",
    "    def __init__(self):\n",
    "        super().__init__()\n",
    "        \n",
    "        self.weights = nn.Parameter(torch.randn(1, requires_grad=True, dtype=torch.float))\n",
    "        self.bias = nn.Parameter(torch.randn(1, requires_grad=True, dtype=torch.float))\n",
    "    \n",
    "    # forward method to define the computation in the model\n",
    "    def forward(self, x: torch.tensor) -> torch.tensor:\n",
    "        return self.weights * x + self.bias # This is the linear regression"
   ]
  },
  {
   "cell_type": "markdown",
   "id": "ed092be4-7130-4c6c-af1f-4922f3ef2bdb",
   "metadata": {},
   "source": [
    "### Pytorch building essentials\n",
    "* torch.nn - contains all of the buildings for computatinol graphs (a neural networks can be considered a computatinol graph)\n",
    "* torch.nn.Parameters - what parameters should our model try and learn, often a Pytorch layer from torch.nn will set these for us\n",
    "* torch.nn.Module - The Base class for all neural network modules, if you subclass it, you should overwrite forward()\n",
    "* torch.optim - This is where optimzer in pytorch live, they will help with gradient descent  \n",
    "* def forward() - All nn.Module subclasses require you to overwrite forward(), this method defines what happens in the forward computation"
   ]
  },
  {
   "cell_type": "markdown",
   "id": "d9cac0cf-4437-4460-a6e5-63d86e095c1b",
   "metadata": {},
   "source": [
    "## Checking the content of our Pytorch model\n",
    "\n",
    "Now we've created a model, let's see what's inside...\n",
    "\n",
    "So we can check our model parameters or what's inside our model using .parameters()."
   ]
  },
  {
   "cell_type": "code",
   "execution_count": 19,
   "id": "cf98fb25-e4be-43da-8213-f88ebf125129",
   "metadata": {},
   "outputs": [
    {
     "data": {
      "text/plain": [
       "[Parameter containing:\n",
       " tensor([0.3367], requires_grad=True),\n",
       " Parameter containing:\n",
       " tensor([0.1288], requires_grad=True)]"
      ]
     },
     "execution_count": 19,
     "metadata": {},
     "output_type": "execute_result"
    }
   ],
   "source": [
    "# Create a random seed\n",
    "torch.manual_seed(42)\n",
    "\n",
    "# Create an instance of the model (this is a subclass of nn.Module)\n",
    "model_0 = LinearRegressionModel()\n",
    "\n",
    "# Check out the parameters\n",
    "list(model_0.parameters())"
   ]
  },
  {
   "cell_type": "code",
   "execution_count": 20,
   "id": "fe69f683-2f2f-4739-b34a-a441f3d0ce57",
   "metadata": {},
   "outputs": [
    {
     "data": {
      "text/plain": [
       "OrderedDict([('weights', tensor([0.3367])), ('bias', tensor([0.1288]))])"
      ]
     },
     "execution_count": 20,
     "metadata": {},
     "output_type": "execute_result"
    }
   ],
   "source": [
    "model_0.state_dict()"
   ]
  },
  {
   "cell_type": "code",
   "execution_count": 21,
   "id": "004e39b6-7033-4f5d-b76d-d2a83088ff98",
   "metadata": {},
   "outputs": [
    {
     "data": {
      "text/plain": [
       "(0.7, 0.3)"
      ]
     },
     "execution_count": 21,
     "metadata": {},
     "output_type": "execute_result"
    }
   ],
   "source": [
    "weight, bias"
   ]
  },
  {
   "cell_type": "markdown",
   "id": "b8d6c005-46af-4468-8ed4-cef4b675779e",
   "metadata": {},
   "source": [
    "## Making prediction using `torch.inference_mode()\n",
    "\n",
    "To check our model's predictive power, let's see how well it predictive `y_test` based on `x_test`\n",
    "\n",
    "When we pass data through our model, it's going to run it through the `forward` method."
   ]
  },
  {
   "cell_type": "code",
   "execution_count": 22,
   "id": "45384343-a947-4daf-b396-1e3a1aa55d67",
   "metadata": {},
   "outputs": [
    {
     "data": {
      "text/plain": [
       "tensor([[0.3982],\n",
       "        [0.4049],\n",
       "        [0.4116],\n",
       "        [0.4184],\n",
       "        [0.4251],\n",
       "        [0.4318],\n",
       "        [0.4386],\n",
       "        [0.4453],\n",
       "        [0.4520],\n",
       "        [0.4588]])"
      ]
     },
     "execution_count": 22,
     "metadata": {},
     "output_type": "execute_result"
    }
   ],
   "source": [
    "with torch.inference_mode():\n",
    "    y_preds = model_0(X_test)\n",
    "    \n",
    "y_preds"
   ]
  },
  {
   "cell_type": "code",
   "execution_count": 23,
   "id": "682ed1f9-6207-4ac2-a249-ff860d679d16",
   "metadata": {},
   "outputs": [
    {
     "data": {
      "image/png": "[encoded data removed]",
      "text/plain": [
       "<Figure size 700x500 with 1 Axes>"
      ]
     },
     "metadata": {},
     "output_type": "display_data"
    }
   ],
   "source": [
    "plot_predictions(predictions=y_preds)"
   ]
  },
  {
   "cell_type": "markdown",
   "id": "34f0d2e3-446f-4a26-acc0-ae2adaf71368",
   "metadata": {},
   "source": [
    "## 3. Train model\n",
    "\n",
    "The whole idea of training is for a model to move from some *unknow* parameters (these may be random) to some *knows* parameters.\n",
    "\n",
    "or in the other words from a poor representaion of the data to a better representation of the data.\n",
    "\n",
    "one way to measure how poor or how wrong your models predictions are is to use a loss function\n",
    "\n",
    "* Note loss function may also called cost function or criterion in different areas. For our case, we're going to refer to it as a loss function\n",
    "\n",
    "Things we need to train\n",
    "\n",
    "* **Loss function:** A function to measure how wrong your model's predictions are to the to the ideal outputs. Lower is better\n",
    "\n",
    "* **Optimizers.** Take into account the loss of a model and adjusts the models' parameters (e.g. weighs & bias)"
   ]
  },
  {
   "cell_type": "code",
   "execution_count": 24,
   "id": "3d8237b8-7a5a-4357-9b72-4a41d058e988",
   "metadata": {},
   "outputs": [
    {
     "data": {
      "text/plain": [
       "[Parameter containing:\n",
       " tensor([0.3367], requires_grad=True),\n",
       " Parameter containing:\n",
       " tensor([0.1288], requires_grad=True)]"
      ]
     },
     "execution_count": 24,
     "metadata": {},
     "output_type": "execute_result"
    }
   ],
   "source": [
    "list(model_0.parameters())"
   ]
  },
  {
   "cell_type": "code",
   "execution_count": 25,
   "id": "451a4ac3-7ac3-461e-87c7-77747f0f5c5c",
   "metadata": {},
   "outputs": [
    {
     "data": {
      "text/plain": [
       "OrderedDict([('weights', tensor([0.3367])), ('bias', tensor([0.1288]))])"
      ]
     },
     "execution_count": 25,
     "metadata": {},
     "output_type": "execute_result"
    }
   ],
   "source": [
    "model_0.state_dict()"
   ]
  },
  {
   "cell_type": "code",
   "execution_count": 26,
   "id": "7bffce3d-4ed7-472f-a25b-cc38ee857be4",
   "metadata": {},
   "outputs": [],
   "source": [
    "# setup a loss function\n",
    "loss_fn = nn.L1Loss()\n",
    "\n",
    "#setup an optimzer\n",
    "optimizer  = torch.optim.SGD(params=model_0.parameters(), lr=0.01)"
   ]
  },
  {
   "cell_type": "code",
   "execution_count": 27,
   "id": "51ed4108-8e9c-4b5c-8a2f-c70d6b35c668",
   "metadata": {},
   "outputs": [
    {
     "data": {
      "text/plain": [
       "L1Loss()"
      ]
     },
     "execution_count": 27,
     "metadata": {},
     "output_type": "execute_result"
    }
   ],
   "source": [
    "loss_fn"
   ]
  },
  {
   "cell_type": "markdown",
   "id": "ef92c7df-a5a7-487d-bc11-b539619c9129",
   "metadata": {},
   "source": [
    "### Building Training loop in Pytorch \n",
    "\n",
    "A couple to things we need in a training loop\n",
    "0. Loop though the data\n",
    "1. Forward Pass (this involves data moving thourgh our model's `forward()`\n",
    "2. Calculate the loss (Compare the forward pass predictions to ground truth lables)\n",
    "3. Optimzer zero grad\n",
    "4. Loss Backward - move backward throgh the network to calculate the gradients of each parameter of our model with respect to the loss (**backpropagation**)\n",
    "5. Optimizer step - use optimzer to adjust our model parameters to try and improve the loss (**Gradient Descents**)"
   ]
  },
  {
   "cell_type": "code",
   "execution_count": null,
   "id": "438fa6a2-a64c-4201-9a38-d18a474b6e95",
   "metadata": {},
   "outputs": [],
   "source": []
  },
  {
   "cell_type": "code",
   "execution_count": 28,
   "id": "e84f7edd-5c55-46bd-9c91-8cda0fba0d25",
   "metadata": {},
   "outputs": [
    {
     "name": "stdout",
     "output_type": "stream",
     "text": [
      "Epoch: 0 | Loss: 0.31288138031959534 | Test Loss: 0.48106518387794495\n",
      "OrderedDict([('weights', tensor([0.3406])), ('bias', tensor([0.1388]))])\n",
      "Epoch: 10 | Loss: 0.1976713240146637 | Test Loss: 0.3463551998138428\n",
      "OrderedDict([('weights', tensor([0.3796])), ('bias', tensor([0.2388]))])\n",
      "Epoch: 20 | Loss: 0.08908725529909134 | Test Loss: 0.21729660034179688\n",
      "OrderedDict([('weights', tensor([0.4184])), ('bias', tensor([0.3333]))])\n",
      "Epoch: 30 | Loss: 0.053148526698350906 | Test Loss: 0.14464017748832703\n",
      "OrderedDict([('weights', tensor([0.4512])), ('bias', tensor([0.3768]))])\n",
      "Epoch: 40 | Loss: 0.04543796554207802 | Test Loss: 0.11360953003168106\n",
      "OrderedDict([('weights', tensor([0.4748])), ('bias', tensor([0.3868]))])\n",
      "Epoch: 50 | Loss: 0.04167863354086876 | Test Loss: 0.09919948130846024\n",
      "OrderedDict([('weights', tensor([0.4938])), ('bias', tensor([0.3843]))])\n",
      "Epoch: 60 | Loss: 0.03818932920694351 | Test Loss: 0.08886633068323135\n",
      "OrderedDict([('weights', tensor([0.5116])), ('bias', tensor([0.3788]))])\n",
      "Epoch: 70 | Loss: 0.03476089984178543 | Test Loss: 0.0805937647819519\n",
      "OrderedDict([('weights', tensor([0.5288])), ('bias', tensor([0.3718]))])\n",
      "Epoch: 80 | Loss: 0.03132382780313492 | Test Loss: 0.07232122868299484\n",
      "OrderedDict([('weights', tensor([0.5459])), ('bias', tensor([0.3648]))])\n",
      "Epoch: 90 | Loss: 0.02788739837706089 | Test Loss: 0.06473556160926819\n",
      "OrderedDict([('weights', tensor([0.5629])), ('bias', tensor([0.3573]))])\n",
      "Epoch: 100 | Loss: 0.024458957836031914 | Test Loss: 0.05646304413676262\n",
      "OrderedDict([('weights', tensor([0.5800])), ('bias', tensor([0.3503]))])\n",
      "Epoch: 110 | Loss: 0.021020207554101944 | Test Loss: 0.04819049686193466\n",
      "OrderedDict([('weights', tensor([0.5972])), ('bias', tensor([0.3433]))])\n",
      "Epoch: 120 | Loss: 0.01758546568453312 | Test Loss: 0.04060482233762741\n",
      "OrderedDict([('weights', tensor([0.6141])), ('bias', tensor([0.3358]))])\n",
      "Epoch: 130 | Loss: 0.014155393466353416 | Test Loss: 0.03233227878808975\n",
      "OrderedDict([('weights', tensor([0.6313])), ('bias', tensor([0.3288]))])\n",
      "Epoch: 140 | Loss: 0.010716589167714119 | Test Loss: 0.024059748277068138\n",
      "OrderedDict([('weights', tensor([0.6485])), ('bias', tensor([0.3218]))])\n",
      "Epoch: 150 | Loss: 0.0072835334576666355 | Test Loss: 0.016474086791276932\n",
      "OrderedDict([('weights', tensor([0.6654])), ('bias', tensor([0.3143]))])\n",
      "Epoch: 160 | Loss: 0.0038517764769494534 | Test Loss: 0.008201557211577892\n",
      "OrderedDict([('weights', tensor([0.6826])), ('bias', tensor([0.3073]))])\n",
      "Epoch: 170 | Loss: 0.008932482451200485 | Test Loss: 0.005023092031478882\n",
      "OrderedDict([('weights', tensor([0.6951])), ('bias', tensor([0.2993]))])\n",
      "Epoch: 180 | Loss: 0.008932482451200485 | Test Loss: 0.005023092031478882\n",
      "OrderedDict([('weights', tensor([0.6951])), ('bias', tensor([0.2993]))])\n",
      "Epoch: 190 | Loss: 0.008932482451200485 | Test Loss: 0.005023092031478882\n",
      "OrderedDict([('weights', tensor([0.6951])), ('bias', tensor([0.2993]))])\n"
     ]
    }
   ],
   "source": [
    "# An epoch is one loop through the data... (This is a hyperparameter because we've set it ourselves)\n",
    "epochs = 200\n",
    "\n",
    "epochs_count = []\n",
    "loss_values = []\n",
    "test_loss_values = []\n",
    "\n",
    "\n",
    "\n",
    "# 0. Loop Thorugh the data\n",
    "for epoch in range(epochs):\n",
    "    #Set the model to training \n",
    "    model_0.train() #train mode in pytorch sets all parameters that require gradients to require gradients\n",
    "    \n",
    "    #1. Forward pass\n",
    "    y_pred = model_0(X_train)\n",
    "    \n",
    "    #2. Calculate the loss\n",
    "    loss = loss_fn(y_pred,y_train)\n",
    "    \n",
    "    #3. Optimizer Zero grad\n",
    "    optimizer.zero_grad()\n",
    "    \n",
    "    #4. Perform backpropagation on the loss with respect to the parameters of the model\n",
    "    loss.backward()\n",
    "    \n",
    "    #5. Step the optimizer (Perform gradient descent)\n",
    "    optimizer.step()\n",
    "    \n",
    "    model_0.eval() #turns off different settings in the model not needed for evaluation/testing  (droptout/bath norm) layers)\n",
    "    \n",
    "    with torch.inference_mode():\n",
    "        #1. Do the forward pass\n",
    "        test_pred = model_0(X_test)\n",
    "        \n",
    "        #calculate the loss\n",
    "        test_loss = loss_fn(test_pred, y_test)\n",
    "    #print out what's happening\n",
    "    if epoch % 10 == 0:\n",
    "        epochs_count.append(epoch)\n",
    "        loss_values.append(loss)\n",
    "        test_loss_values.append(test_loss)\n",
    "        print(f\"Epoch: {epoch} | Loss: {loss} | Test Loss: {test_loss}\")\n",
    "        \n",
    "        #print out the state dictionary\n",
    "        print(model_0.state_dict())"
   ]
  },
  {
   "cell_type": "code",
   "execution_count": 29,
   "id": "55511385-d8cf-4e1f-9f63-33e56097eee9",
   "metadata": {},
   "outputs": [
    {
     "data": {
      "text/plain": [
       "[Parameter containing:\n",
       " tensor([0.6990], requires_grad=True),\n",
       " Parameter containing:\n",
       " tensor([0.3093], requires_grad=True)]"
      ]
     },
     "execution_count": 29,
     "metadata": {},
     "output_type": "execute_result"
    }
   ],
   "source": [
    "list(model_0.parameters())"
   ]
  },
  {
   "cell_type": "code",
   "execution_count": 30,
   "id": "893f6fad-de88-456b-bfb3-eac316cb9a45",
   "metadata": {},
   "outputs": [],
   "source": [
    "with torch.inference_mode():\n",
    "    y_pred_new = model_0(X_test)"
   ]
  },
  {
   "cell_type": "code",
   "execution_count": 31,
   "id": "b6b01236-abac-404e-a0b8-3a62fda19971",
   "metadata": {},
   "outputs": [
    {
     "data": {
      "text/plain": [
       "tensor([[0.8685],\n",
       "        [0.8825],\n",
       "        [0.8965],\n",
       "        [0.9105],\n",
       "        [0.9245],\n",
       "        [0.9384],\n",
       "        [0.9524],\n",
       "        [0.9664],\n",
       "        [0.9804],\n",
       "        [0.9944]])"
      ]
     },
     "execution_count": 31,
     "metadata": {},
     "output_type": "execute_result"
    }
   ],
   "source": [
    "y_pred_new"
   ]
  },
  {
   "cell_type": "code",
   "execution_count": 32,
   "id": "059a1d02-aa50-4e67-b2cf-fb8ec525dc13",
   "metadata": {},
   "outputs": [
    {
     "data": {
      "image/png": "[encoded data removed]",
      "text/plain": [
       "<Figure size 700x500 with 1 Axes>"
      ]
     },
     "metadata": {},
     "output_type": "display_data"
    }
   ],
   "source": [
    "plot_predictions(predictions=y_pred_new)"
   ]
  },
  {
   "cell_type": "code",
   "execution_count": 33,
   "id": "2eb970a4-6855-4e50-8fd2-b09dde1b5e01",
   "metadata": {},
   "outputs": [
    {
     "data": {
      "text/plain": [
       "[tensor(0.4811),\n",
       " tensor(0.3464),\n",
       " tensor(0.2173),\n",
       " tensor(0.1446),\n",
       " tensor(0.1136),\n",
       " tensor(0.0992),\n",
       " tensor(0.0889),\n",
       " tensor(0.0806),\n",
       " tensor(0.0723),\n",
       " tensor(0.0647),\n",
       " tensor(0.0565),\n",
       " tensor(0.0482),\n",
       " tensor(0.0406),\n",
       " tensor(0.0323),\n",
       " tensor(0.0241),\n",
       " tensor(0.0165),\n",
       " tensor(0.0082),\n",
       " tensor(0.0050),\n",
       " tensor(0.0050),\n",
       " tensor(0.0050)]"
      ]
     },
     "execution_count": 33,
     "metadata": {},
     "output_type": "execute_result"
    }
   ],
   "source": [
    "# epochs_count\n",
    "# loss_values\n",
    "test_loss_values"
   ]
  },
  {
   "cell_type": "code",
   "execution_count": 34,
   "id": "c662e1dc-24f4-4aba-96a9-5b7640001bd7",
   "metadata": {},
   "outputs": [
    {
     "data": {
      "text/plain": [
       "array([0.31288138, 0.19767132, 0.08908726, 0.05314853, 0.04543797,\n",
       "       0.04167863, 0.03818933, 0.0347609 , 0.03132383, 0.0278874 ,\n",
       "       0.02445896, 0.02102021, 0.01758547, 0.01415539, 0.01071659,\n",
       "       0.00728353, 0.00385178, 0.00893248, 0.00893248, 0.00893248],\n",
       "      dtype=float32)"
      ]
     },
     "execution_count": 34,
     "metadata": {},
     "output_type": "execute_result"
    }
   ],
   "source": [
    "np.array(torch.tensor(loss_values).numpy())"
   ]
  },
  {
   "cell_type": "code",
   "execution_count": 35,
   "id": "ae1072c3-69ef-4213-b93e-3a0845eda961",
   "metadata": {},
   "outputs": [
    {
     "data": {
      "image/png": "[encoded data removed]",
      "text/plain": [
       "<Figure size 640x480 with 1 Axes>"
      ]
     },
     "metadata": {},
     "output_type": "display_data"
    }
   ],
   "source": [
    "plt.plot(epochs_count, np.array(torch.tensor(loss_values).numpy()), label = 'Train Loss')\n",
    "plt.plot(epochs_count, test_loss_values, label = 'Test loss')\n",
    "plt.xlabel('Loss Values')\n",
    "plt.ylabel('Epochs Count')\n",
    "plt.legend()\n",
    "plt.show()"
   ]
  },
  {
   "cell_type": "code",
   "execution_count": 36,
   "id": "16d307db-e5db-4324-9a5c-4083287cbb4a",
   "metadata": {},
   "outputs": [
    {
     "data": {
      "text/plain": [
       "OrderedDict([('weights', tensor([0.6990])), ('bias', tensor([0.3093]))])"
      ]
     },
     "execution_count": 36,
     "metadata": {},
     "output_type": "execute_result"
    }
   ],
   "source": [
    "model_0.state_dict()"
   ]
  },
  {
   "cell_type": "markdown",
   "id": "ed2247b9-01c0-4807-95ea-4068103de233",
   "metadata": {},
   "source": [
    "### There are three method which we can use to save and load model in pytorch\n",
    "\n",
    "1. `torch.save()` allow you to save a PyTorch object into pickle format\n",
    "\n",
    "2. `torch.load()` allow you load a saved PyTorch object \n",
    "\n",
    "3. `torch.nn.Module.load_state_dict`  - this allow to load a model's saved state dicitionary"
   ]
  },
  {
   "cell_type": "code",
   "execution_count": 37,
   "id": "85324ec2-527e-46e9-aef7-71b132ee06e5",
   "metadata": {},
   "outputs": [
    {
     "name": "stdout",
     "output_type": "stream",
     "text": [
      "Saving model to model\\01_pytorch_workflow_model_0.pth\n"
     ]
    }
   ],
   "source": [
    "#Saving Pytorch Model\n",
    "from pathlib import Path\n",
    "\n",
    "# Create model dirctory\n",
    "MODEL_PATH =  Path(\"model\")\n",
    "MODEL_PATH.mkdir(parents=True, exist_ok=True)\n",
    "\n",
    "# Create model save path\n",
    "MODEL_NAME = '01_pytorch_workflow_model_0.pth'\n",
    "MODEL_SAVE_PATH = MODEL_PATH / MODEL_NAME\n",
    "\n",
    "# Save the model state dict \n",
    "print(f\"Saving model to {MODEL_SAVE_PATH }\")\n",
    "torch.save(obj=model_0.state_dict(),\n",
    "           f=MODEL_SAVE_PATH)\n"
   ]
  },
  {
   "cell_type": "markdown",
   "id": "58704647-2ab6-411e-babf-345960a02e60",
   "metadata": {},
   "source": [
    "### Loading Model"
   ]
  },
  {
   "cell_type": "code",
   "execution_count": 38,
   "id": "55518534-64c0-4b46-a8c7-216338aafede",
   "metadata": {},
   "outputs": [],
   "source": [
    "loaded_model = LinearRegressionModel()"
   ]
  },
  {
   "cell_type": "code",
   "execution_count": 39,
   "id": "a0dd41a6-2112-4ad1-9664-9ebd62921e6a",
   "metadata": {},
   "outputs": [
    {
     "data": {
      "text/plain": [
       "OrderedDict([('weights', tensor([0.2345])), ('bias', tensor([0.2303]))])"
      ]
     },
     "execution_count": 39,
     "metadata": {},
     "output_type": "execute_result"
    }
   ],
   "source": [
    "loaded_model.state_dict()"
   ]
  },
  {
   "cell_type": "code",
   "execution_count": 40,
   "id": "da11e6a9-be84-46a8-b34b-afd572f6d5e3",
   "metadata": {},
   "outputs": [
    {
     "data": {
      "text/plain": [
       "<All keys matched successfully>"
      ]
     },
     "execution_count": 40,
     "metadata": {},
     "output_type": "execute_result"
    }
   ],
   "source": [
    "loaded_model.load_state_dict(torch.load(f=MODEL_SAVE_PATH))"
   ]
  },
  {
   "cell_type": "code",
   "execution_count": 41,
   "id": "ed8eefd2-f362-4243-a39d-88e0f81221c8",
   "metadata": {},
   "outputs": [
    {
     "data": {
      "text/plain": [
       "OrderedDict([('weights', tensor([0.6990])), ('bias', tensor([0.3093]))])"
      ]
     },
     "execution_count": 41,
     "metadata": {},
     "output_type": "execute_result"
    }
   ],
   "source": [
    "loaded_model.state_dict()"
   ]
  },
  {
   "cell_type": "code",
   "execution_count": 42,
   "id": "305decf3-5910-44fe-9fa2-b02c9660c15f",
   "metadata": {},
   "outputs": [
    {
     "data": {
      "text/plain": [
       "tensor([[0.8685],\n",
       "        [0.8825],\n",
       "        [0.8965],\n",
       "        [0.9105],\n",
       "        [0.9245],\n",
       "        [0.9384],\n",
       "        [0.9524],\n",
       "        [0.9664],\n",
       "        [0.9804],\n",
       "        [0.9944]])"
      ]
     },
     "execution_count": 42,
     "metadata": {},
     "output_type": "execute_result"
    }
   ],
   "source": [
    "loaded_model.eval()\n",
    "with torch.inference_mode():\n",
    "    loaded_model_preds = loaded_model(X_test)\n",
    "    \n",
    "loaded_model_preds"
   ]
  },
  {
   "cell_type": "code",
   "execution_count": 43,
   "id": "5cb2151a-0f53-475b-9059-83929b80c663",
   "metadata": {},
   "outputs": [
    {
     "data": {
      "image/png": "[encoded data removed]",
      "text/plain": [
       "<Figure size 700x500 with 1 Axes>"
      ]
     },
     "metadata": {},
     "output_type": "display_data"
    }
   ],
   "source": [
    "plot_predictions(predictions=loaded_model_preds)"
   ]
  },
  {
   "cell_type": "markdown",
   "id": "5fe4fc23-08e3-4c21-9a73-16bc793feccb",
   "metadata": {},
   "source": [
    "## 6. Putting it all together"
   ]
  },
  {
   "cell_type": "code",
   "execution_count": 10,
   "id": "747e0c60-c7ca-4e9e-a896-478cf27062f1",
   "metadata": {},
   "outputs": [],
   "source": [
    "# importing libraries\n",
    "import torch\n",
    "from torch import nn\n",
    "import matplotlib.pyplot as plt"
   ]
  },
  {
   "cell_type": "markdown",
   "id": "0dfcc606-20a8-4723-8be3-9dfdc8d0db90",
   "metadata": {},
   "source": [
    "##### creating device agnostic code.\n",
    "That's mean if our code will get gpu it will use gpu do fast computation. othewise it will run on cpu."
   ]
  },
  {
   "cell_type": "code",
   "execution_count": 11,
   "id": "cd56f9eb-ca36-476a-9b5d-c88312270717",
   "metadata": {},
   "outputs": [
    {
     "name": "stdout",
     "output_type": "stream",
     "text": [
      "Usind Device CPU\n"
     ]
    }
   ],
   "source": [
    "device = 'cuda'if torch.cuda.is_available() else 'CPU'\n",
    "print(f\"Usind Device {device}\")"
   ]
  },
  {
   "cell_type": "code",
   "execution_count": 12,
   "id": "21627c4c-42c0-49b0-ab20-83d98bafbd20",
   "metadata": {},
   "outputs": [
    {
     "data": {
      "text/plain": [
       "(tensor([[0.0000],\n",
       "         [0.0200],\n",
       "         [0.0400],\n",
       "         [0.0600],\n",
       "         [0.0800],\n",
       "         [0.1000],\n",
       "         [0.1200],\n",
       "         [0.1400],\n",
       "         [0.1600],\n",
       "         [0.1800]]),\n",
       " tensor([[0.3000],\n",
       "         [0.3140],\n",
       "         [0.3280],\n",
       "         [0.3420],\n",
       "         [0.3560],\n",
       "         [0.3700],\n",
       "         [0.3840],\n",
       "         [0.3980],\n",
       "         [0.4120],\n",
       "         [0.4260]]))"
      ]
     },
     "execution_count": 12,
     "metadata": {},
     "output_type": "execute_result"
    }
   ],
   "source": [
    "# Create some data using linear regresstion fromulat y = m*x + c\n",
    "weight = 0.7\n",
    "bias = 0.3\n",
    "\n",
    "#Create range values\n",
    "start = 0\n",
    "end = 1\n",
    "step = 0.02\n",
    "\n",
    "#Create X and y (features and available)\n",
    "X = torch.arange(start,end,step).unsqueeze(dim=1) #without unsqueeze errors will pop up\n",
    "y  =  weight * X +  bias\n",
    "X[:10] , y[:10]"
   ]
  },
  {
   "cell_type": "code",
   "execution_count": 13,
   "id": "c74827f8-a09c-45e7-945a-2d357ed1e98a",
   "metadata": {},
   "outputs": [
    {
     "data": {
      "text/plain": [
       "(40, 10, 40, 10)"
      ]
     },
     "execution_count": 13,
     "metadata": {},
     "output_type": "execute_result"
    }
   ],
   "source": [
    "train_split = int(0.8 * len(X))\n",
    "X_train , y_train = X[:train_split] , y[:train_split]\n",
    "X_test , y_test = X[train_split:] , y[train_split:]\n",
    "len(X_train) , len(X_test) , len(y_train) ,  len(y_test)\n"
   ]
  },
  {
   "cell_type": "code",
   "execution_count": 14,
   "id": "c5b18b9b-b9d9-490a-8c89-1138d6b7d62a",
   "metadata": {},
   "outputs": [
    {
     "data": {
      "image/png": "[encoded data removed]",
      "text/plain": [
       "<Figure size 700x500 with 1 Axes>"
      ]
     },
     "metadata": {},
     "output_type": "display_data"
    }
   ],
   "source": [
    "#Plot the Data\n",
    "#Note: if you don't have the plot_prediction() function loaded, this will give error\n",
    "plot_predictions(X_train, y_train, X_test, y_test)"
   ]
  },
  {
   "cell_type": "code",
   "execution_count": 15,
   "id": "2f21d395-23d3-44b7-8ee5-a9c5cd8ef691",
   "metadata": {},
   "outputs": [
    {
     "data": {
      "text/plain": [
       "(LinearRegressionModelV2(\n",
       "   (linear_layer): Linear(in_features=1, out_features=1, bias=True)\n",
       " ),\n",
       " OrderedDict([('linear_layer.weight', tensor([[0.7645]])),\n",
       "              ('linear_layer.bias', tensor([0.8300]))]))"
      ]
     },
     "execution_count": 15,
     "metadata": {},
     "output_type": "execute_result"
    }
   ],
   "source": [
    "class LinearRegressionModelV2(nn.Module):\n",
    "    def __init__(self):\n",
    "        super().__init__()\n",
    "        #Use nn.Linear() for creating the model parameter / also called: linear transformer , probing lyaer, fully connected layer\n",
    "        self.linear_layer = nn.Linear(in_features=1, out_features=1)\n",
    "    \n",
    "    def forward(self, x: torch.Tensor) -> torch.Tensor:\n",
    "        return self.linear_layer(x)\n",
    "\n",
    "                                 \n",
    "#set the manual feed \n",
    "torch.manual_seed(42)\n",
    "model_1 = LinearRegressionModelV2()\n",
    "model_1 , model_1.state_dict()"
   ]
  },
  {
   "cell_type": "markdown",
   "id": "515c18e8-7ff5-4f1e-af9c-3d0a4975f42e",
   "metadata": {
    "tags": []
   },
   "source": [
    "### Training\n",
    "\n",
    "For training we need\n",
    "\n",
    "* Loss Function\n",
    "* Optimizer\n",
    "* Training Loop\n",
    "* Testing Loop\n"
   ]
  },
  {
   "cell_type": "code",
   "execution_count": 16,
   "id": "0daf3ed4-9307-4887-a083-60380d9f8220",
   "metadata": {},
   "outputs": [],
   "source": [
    "# Setup the loss function\n",
    "loss_fn = nn.L1Loss()\n",
    "\n",
    "#setup the optmizer\n",
    "optimizer = torch.optim.SGD( params=model_1.parameters()   ,lr=0.01)\n"
   ]
  },
  {
   "cell_type": "code",
   "execution_count": 17,
   "id": "412a7caf-a302-4fdd-8011-778fe946ff91",
   "metadata": {},
   "outputs": [
    {
     "name": "stdout",
     "output_type": "stream",
     "text": [
      "Epochs: 0, Loss: 0.5551779866218567, Test Loss 0.5739762187004089\n",
      "Epochs: 10, Loss: 0.4399680495262146, Test Loss 0.4392663538455963\n",
      "Epochs: 20, Loss: 0.3247582018375397, Test Loss 0.30455657839775085\n",
      "Epochs: 30, Loss: 0.20954827964305878, Test Loss 0.16984674334526062\n",
      "Epochs: 40, Loss: 0.09433844685554504, Test Loss 0.03513689711689949\n",
      "Epochs: 50, Loss: 0.023886386305093765, Test Loss 0.04784906655550003\n",
      "Epochs: 60, Loss: 0.0199567973613739, Test Loss 0.04580312222242355\n",
      "Epochs: 70, Loss: 0.016517987474799156, Test Loss 0.0375305712223053\n",
      "Epochs: 80, Loss: 0.013089170679450035, Test Loss 0.029944902285933495\n",
      "Epochs: 90, Loss: 0.009653178043663502, Test Loss 0.02167237363755703\n",
      "Epochs: 100, Loss: 0.006215679459273815, Test Loss 0.014086711220443249\n",
      "Epochs: 110, Loss: 0.002787243574857712, Test Loss 0.005814164876937866\n",
      "Epochs: 120, Loss: 0.0012645035749301314, Test Loss 0.013801807537674904\n",
      "Epochs: 130, Loss: 0.0012645035749301314, Test Loss 0.013801807537674904\n",
      "Epochs: 140, Loss: 0.0012645035749301314, Test Loss 0.013801807537674904\n",
      "Epochs: 150, Loss: 0.0012645035749301314, Test Loss 0.013801807537674904\n",
      "Epochs: 160, Loss: 0.0012645035749301314, Test Loss 0.013801807537674904\n",
      "Epochs: 170, Loss: 0.0012645035749301314, Test Loss 0.013801807537674904\n",
      "Epochs: 180, Loss: 0.0012645035749301314, Test Loss 0.013801807537674904\n",
      "Epochs: 190, Loss: 0.0012645035749301314, Test Loss 0.013801807537674904\n"
     ]
    }
   ],
   "source": [
    "#lets write a training and testing loop\n",
    "torch.manual_seed(42)\n",
    "epochs = 200\n",
    "\n",
    "for epoch in range(epochs):\n",
    "    \n",
    "    model_1.train()\n",
    "    \n",
    "    #1.Forward Pass\n",
    "    y_pred = model_1(X_train)\n",
    "    \n",
    "    #2.calculate the loss\n",
    "    loss = loss_fn(y_pred, y_train)\n",
    "    \n",
    "    #3. Optimizer grad\n",
    "    optimizer.zero_grad()\n",
    "    \n",
    "    #4. Perform backpropgation\n",
    "    loss.backward()\n",
    "    \n",
    "    #5. The Optimzer Step\n",
    "    optimizer.step()\n",
    "    \n",
    "    # Testing\n",
    "    model_1.eval()\n",
    "    \n",
    "    with torch.inference_mode():\n",
    "        test_pred = model_1(X_test)\n",
    "        \n",
    "        test_loss = loss_fn(test_pred, y_test)\n",
    "        \n",
    "    #print out what's happening\n",
    "    if epoch % 10 == 0:\n",
    "        print(f\"Epochs: {epoch}, Loss: {loss}, Test Loss {test_loss}\")\n",
    "        \n",
    "    "
   ]
  },
  {
   "cell_type": "code",
   "execution_count": 18,
   "id": "68e1651f-d26f-42e9-a7a8-5a4925d30571",
   "metadata": {},
   "outputs": [
    {
     "data": {
      "text/plain": [
       "OrderedDict([('linear_layer.weight', tensor([[0.6968]])),\n",
       "             ('linear_layer.bias', tensor([0.3025]))])"
      ]
     },
     "execution_count": 18,
     "metadata": {},
     "output_type": "execute_result"
    }
   ],
   "source": [
    "model_1.state_dict()"
   ]
  },
  {
   "cell_type": "code",
   "execution_count": 19,
   "id": "7f739eab-a2e2-4bc0-b080-071fd3243621",
   "metadata": {},
   "outputs": [
    {
     "data": {
      "image/png": "[encoded data removed]",
      "text/plain": [
       "<Figure size 700x500 with 1 Axes>"
      ]
     },
     "metadata": {},
     "output_type": "display_data"
    }
   ],
   "source": [
    "plot_predictions(predictions=test_pred)"
   ]
  },
  {
   "cell_type": "markdown",
   "id": "a25434ea-9028-4c85-a68e-15e1f538168f",
   "metadata": {},
   "source": [
    "### Saving and Loading Trained Model"
   ]
  },
  {
   "cell_type": "code",
   "execution_count": 28,
   "id": "7603fee7-d018-499f-82d4-05996032c73b",
   "metadata": {},
   "outputs": [],
   "source": [
    "from pathlib import Path\n",
    "\n",
    "#1. Create model Directory\n",
    "MODEL_PATH = Path(\"models\")\n",
    "MODEL_PATH.mkdir(parents=True, exist_ok=True)\n",
    "\n",
    "#2. create model save path\n",
    "MODEL_NAME = \"01_Pytorch_workflow_model_1.pth\"\n",
    "MODEL_SAVE_PATH = MODEL_PATH / MODEL_NAME\n",
    "\n",
    "MODEL_SAVE_PATH \n",
    "torch.save(obj=model_1.state_dict(),\n",
    "           f=MODEL_SAVE_PATH)"
   ]
  },
  {
   "cell_type": "code",
   "execution_count": 29,
   "id": "81592bb6-ded7-4baf-9761-e5325f43da79",
   "metadata": {},
   "outputs": [
    {
     "data": {
      "text/plain": [
       "OrderedDict([('linear_layer.weight', tensor([[0.6968]])),\n",
       "             ('linear_layer.bias', tensor([0.3025]))])"
      ]
     },
     "execution_count": 29,
     "metadata": {},
     "output_type": "execute_result"
    }
   ],
   "source": [
    "model_1.state_dict()"
   ]
  },
  {
   "cell_type": "code",
   "execution_count": 30,
   "id": "1232a57f-a893-482a-9351-cadd6bb1ecce",
   "metadata": {},
   "outputs": [
    {
     "data": {
      "text/plain": [
       "<All keys matched successfully>"
      ]
     },
     "execution_count": 30,
     "metadata": {},
     "output_type": "execute_result"
    }
   ],
   "source": [
    "#load a pytorch model\n",
    "loaded_model_1  = LinearRegressionModelV2()\n",
    "\n",
    "#load the saved model state dict\n",
    "loaded_model_1.load_state_dict(torch.load(MODEL_SAVE_PATH))\n"
   ]
  },
  {
   "cell_type": "code",
   "execution_count": 31,
   "id": "5abb6f57-98d8-4bbd-8db9-05e46915be3b",
   "metadata": {},
   "outputs": [
    {
     "data": {
      "text/plain": [
       "LinearRegressionModelV2(\n",
       "  (linear_layer): Linear(in_features=1, out_features=1, bias=True)\n",
       ")"
      ]
     },
     "execution_count": 31,
     "metadata": {},
     "output_type": "execute_result"
    }
   ],
   "source": [
    "loaded_model_1"
   ]
  },
  {
   "cell_type": "code",
   "execution_count": 32,
   "id": "26383932-89ac-4490-817b-91f90fcc1e2e",
   "metadata": {},
   "outputs": [
    {
     "data": {
      "text/plain": [
       "OrderedDict([('linear_layer.weight', tensor([[0.6968]])),\n",
       "             ('linear_layer.bias', tensor([0.3025]))])"
      ]
     },
     "execution_count": 32,
     "metadata": {},
     "output_type": "execute_result"
    }
   ],
   "source": [
    "loaded_model_1.state_dict()"
   ]
  },
  {
   "cell_type": "code",
   "execution_count": 36,
   "id": "b0512a57-47df-46cd-8600-7cff78b43e30",
   "metadata": {},
   "outputs": [
    {
     "data": {
      "text/plain": [
       "tensor([[True],\n",
       "        [True],\n",
       "        [True],\n",
       "        [True],\n",
       "        [True],\n",
       "        [True],\n",
       "        [True],\n",
       "        [True],\n",
       "        [True],\n",
       "        [True]])"
      ]
     },
     "execution_count": 36,
     "metadata": {},
     "output_type": "execute_result"
    }
   ],
   "source": [
    "# Evaluate the loaded model\n",
    "\n",
    "loaded_model_1.eval()\n",
    "\n",
    "with torch.inference_mode():\n",
    "    loaded_model_1_pred = loaded_model_1(X_test)\n",
    "    \n",
    "test_pred == loaded_model_1_pred"
   ]
  },
  {
   "cell_type": "code",
   "execution_count": null,
   "id": "568146b4-87c3-4985-abcb-072b6b6ae70a",
   "metadata": {},
   "outputs": [],
   "source": []
  },
  {
   "cell_type": "code",
   "execution_count": null,
   "id": "725d3e0a-82ef-48b2-ba2e-1b7fb7b6232a",
   "metadata": {},
   "outputs": [],
   "source": []
  },
  {
   "cell_type": "code",
   "execution_count": null,
   "id": "57d7c82e-1d60-4100-880f-54fbdddf4faa",
   "metadata": {},
   "outputs": [],
   "source": []
  },
  {
   "cell_type": "code",
   "execution_count": null,
   "id": "7df6c28e-5202-4579-806a-12a68bdf3cfd",
   "metadata": {},
   "outputs": [],
   "source": []
  },
  {
   "cell_type": "code",
   "execution_count": null,
   "id": "80f0391d-fdeb-4094-8f00-1f8daac55b0f",
   "metadata": {},
   "outputs": [],
   "source": []
  },
  {
   "cell_type": "code",
   "execution_count": null,
   "id": "6f08ff93-3acb-4caf-ac07-e8bf3321abab",
   "metadata": {},
   "outputs": [],
   "source": []
  },
  {
   "cell_type": "code",
   "execution_count": null,
   "id": "22f811bf-9856-4da3-9513-93bb20efa387",
   "metadata": {},
   "outputs": [],
   "source": []
  },
  {
   "cell_type": "code",
   "execution_count": null,
   "id": "09c98275-56c9-4f63-b21d-0a7146037dde",
   "metadata": {},
   "outputs": [],
   "source": []
  }
 ],
 "metadata": {
  "kernelspec": {
   "display_name": "Python 3 (ipykernel)",
   "language": "python",
   "name": "python3"
  },
  "language_info": {
   "codemirror_mode": {
    "name": "ipython",
    "version": 3
   },
   "file_extension": ".py",
   "mimetype": "text/x-python",
   "name": "python",
   "nbconvert_exporter": "python",
   "pygments_lexer": "ipython3",
   "version": "3.9.12"
  }
 },
 "nbformat": 4,
 "nbformat_minor": 5
}
