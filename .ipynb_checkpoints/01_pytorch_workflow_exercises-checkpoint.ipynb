{
 "cells": [
  {
   "cell_type": "markdown",
   "metadata": {
    "id": "N8LsPXZti9Sw"
   },
   "source": [
    "# 01. PyTorch Workflow Exercise Template\n",
    "\n",
    "The following is a template for the PyTorch workflow exercises.\n",
    "\n",
    "It's only starter code and it's your job to fill in the blanks.\n",
    "\n",
    "Because of the flexibility of PyTorch, there may be more than one way to answer the question.\n",
    "\n",
    "Don't worry about trying to be *right* just try writing code that suffices the question.\n",
    "\n",
    "You can see one form of [solutions on GitHub](https://github.com/mrdbourke/pytorch-deep-learning/tree/main/extras/solutions) (but try the exercises below yourself first!)."
   ]
  },
  {
   "cell_type": "code",
   "execution_count": 1,
   "metadata": {
    "id": "Glu2fM4dkNlx"
   },
   "outputs": [],
   "source": [
    "# Import necessary libraries\n",
    "import torch\n",
    "import matplotlib.pyplot as plt\n",
    "import numpy as np\n",
    "import pandas as pd"
   ]
  },
  {
   "cell_type": "code",
   "execution_count": 2,
   "metadata": {
    "id": "LqKhXY26m31s"
   },
   "outputs": [
    {
     "name": "stdout",
     "output_type": "stream",
     "text": [
      "The Available Device is CPU\n"
     ]
    }
   ],
   "source": [
    "# Setup device-agnostic code\n",
    "device = 'cuda' if torch.cuda.is_available() else 'CPU'\n",
    "print(f\"The Available Device is {device}\")"
   ]
  },
  {
   "cell_type": "markdown",
   "metadata": {
    "id": "g7HUhxCxjeBx"
   },
   "source": [
    "## 1. Create a straight line dataset using the linear regression formula (`weight * X + bias`).\n",
    "  * Set `weight=0.3` and `bias=0.9` there should be at least 100 datapoints total.\n",
    "  * Split the data into 80% training, 20% testing.\n",
    "  * Plot the training and testing data so it becomes visual.\n",
    "\n",
    "Your output of the below cell should look something like:\n",
    "```\n",
    "Number of X samples: 100\n",
    "Number of y samples: 100\n",
    "First 10 X & y samples:\n",
    "X: tensor([0.0000, 0.0100, 0.0200, 0.0300, 0.0400, 0.0500, 0.0600, 0.0700, 0.0800,\n",
    "        0.0900])\n",
    "y: tensor([0.9000, 0.9030, 0.9060, 0.9090, 0.9120, 0.9150, 0.9180, 0.9210, 0.9240,\n",
    "        0.9270])\n",
    "```\n",
    "\n",
    "Of course the numbers in `X` and `y` may be different but ideally they're created using the linear regression formula."
   ]
  },
  {
   "cell_type": "code",
   "execution_count": 3,
   "metadata": {
    "id": "KbDG5MV7jhvE"
   },
   "outputs": [
    {
     "name": "stdout",
     "output_type": "stream",
     "text": [
      "Number of X samples: 100\n",
      "Number of y samples: 100\n",
      "First 10 X & y samples:\n",
      "X: tensor([0.0000, 0.0100, 0.0200, 0.0300, 0.0400, 0.0500, 0.0600, 0.0700, 0.0800,\n",
      "        0.0900])\n",
      "y: tensor([0.9000, 0.9030, 0.9060, 0.9090, 0.9120, 0.9150, 0.9180, 0.9210, 0.9240,\n",
      "        0.9270])\n"
     ]
    }
   ],
   "source": [
    "# Create the data parameters\n",
    "Weight = 0.3\n",
    "Bias = 0.9\n",
    "\n",
    "start = 0\n",
    "end = 1\n",
    "step = 0.01\n",
    "\n",
    "# Make X and y using linear regression feature\n",
    "X = torch.arange(start,end,step)\n",
    "\n",
    "y = Weight * X + Bias\n",
    "\n",
    "print(f\"Number of X samples: {len(X)}\")\n",
    "print(f\"Number of y samples: {len(y)}\")\n",
    "print(f\"First 10 X & y samples:\\nX: {X[:10]}\\ny: {y[:10]}\")"
   ]
  },
  {
   "cell_type": "code",
   "execution_count": 4,
   "metadata": {
    "id": "GlwtT1djkmLw"
   },
   "outputs": [],
   "source": [
    "# Split the data into training and testing\n",
    "train_split = int(0.8 * len(X))\n",
    "X_train, y_train = X[:train_split], y[:train_split]\n",
    "X_test , y_test =  X[train_split:] , y[train_split:]"
   ]
  },
  {
   "cell_type": "code",
   "execution_count": 5,
   "metadata": {
    "id": "29iQZFNhlYJ-"
   },
   "outputs": [
    {
     "data": {
      "image/png": "[encoded data removed]",
      "text/plain": [
       "<Figure size 700x500 with 1 Axes>"
      ]
     },
     "metadata": {},
     "output_type": "display_data"
    }
   ],
   "source": [
    "# Plot the training and testing data\n",
    "def PlotPrediction(train_data=X_train,\n",
    "                   train_lable = y_train,\n",
    "                   test_data = X_test,\n",
    "                   test_label = y_test,\n",
    "                   predictions = None):\n",
    "    \n",
    "                   \n",
    "    \"\"\" A lot for plotting the training, testing and prediction data  \"\"\"\n",
    "    \n",
    "    plt.figure(figsize=(7,5))\n",
    "    \n",
    "    #plot training data in blue\n",
    "    plt.scatter(x=train_data, y=train_lable , c='b' , label='Training Data')\n",
    "    \n",
    "    #plot the testing data in green\n",
    "    plt.scatter(x=test_data, y=test_label, c='g', label='Testing Data')\n",
    "    \n",
    "    if predictions is not None:\n",
    "        \n",
    "        plt.scatter(x=test_data, y=predictions , c='r' , label='Predictions')\n",
    "        \n",
    "    plt.legend(prop={'size': 14});\n",
    "\n",
    "    \n",
    "PlotPrediction()"
   ]
  },
  {
   "cell_type": "markdown",
   "metadata": {
    "id": "ImZoe3v8jif8"
   },
   "source": [
    "## 2. Build a PyTorch model by subclassing `nn.Module`.\n",
    "  * Inside should be a randomly initialized `nn.Parameter()` with `requires_grad=True`, one for `weights` and one for `bias`.\n",
    "  * Implement the `forward()` method to compute the linear regression function you used to create the dataset in 1.\n",
    "  * Once you've constructed the model, make an instance of it and check its `state_dict()`.\n",
    "  * **Note:** If you'd like to use `nn.Linear()` instead of `nn.Parameter()` you can."
   ]
  },
  {
   "cell_type": "code",
   "execution_count": 6,
   "metadata": {
    "id": "qzd__Y5rjtB8"
   },
   "outputs": [],
   "source": [
    "# Create PyTorch linear regression model by subclassing nn.Module\n",
    "from torch import nn\n",
    "class LinearRegressionModel(nn.Module):\n",
    "    def __init__(self):\n",
    "        super().__init__()\n",
    "                      \n",
    "        self.weight = nn.Parameter(torch.randn(1, requires_grad=True, dtype=torch.float))\n",
    "        self.bias = nn.Parameter(torch.randn(1, requires_grad=True,dtype=torch.float))\n",
    "        \n",
    "    def forward(self, x: torch.tensor) -> torch.tensor:\n",
    "        return self.weight * x + self.bias"
   ]
  },
  {
   "cell_type": "code",
   "execution_count": 7,
   "metadata": {
    "id": "5LdcDnmOmyQ2"
   },
   "outputs": [],
   "source": [
    "# Instantiate the model and put it to the target device\n",
    "model_0 = LinearRegressionModel()"
   ]
  },
  {
   "cell_type": "code",
   "execution_count": 8,
   "metadata": {},
   "outputs": [
    {
     "data": {
      "text/plain": [
       "OrderedDict([('weight', tensor([-1.1581])), ('bias', tensor([1.2171]))])"
      ]
     },
     "execution_count": 8,
     "metadata": {},
     "output_type": "execute_result"
    }
   ],
   "source": [
    "model_0.state_dict()"
   ]
  },
  {
   "cell_type": "markdown",
   "metadata": {
    "id": "G6nYOrJhjtfu"
   },
   "source": [
    "## 3. Create a loss function and optimizer using `nn.L1Loss()` and `torch.optim.SGD(params, lr)` respectively.\n",
    "  * Set the learning rate of the optimizer to be 0.01 and the parameters to optimize should be the model parameters from the model you created in 2.\n",
    "  * Write a training loop to perform the appropriate training steps for 300 epochs.\n",
    "  * The training loop should test the model on the test dataset every 20 epochs."
   ]
  },
  {
   "cell_type": "code",
   "execution_count": 9,
   "metadata": {
    "id": "ltvoZ-FWjv1j"
   },
   "outputs": [],
   "source": [
    "# Create the loss function and optimizer\n",
    "loss_fn = nn.L1Loss()\n",
    "\n",
    "#setup the optimizer\n",
    "optimizer = torch.optim.SGD(params=model_0.parameters() , lr=0.01)"
   ]
  },
  {
   "cell_type": "code",
   "execution_count": 20,
   "metadata": {
    "id": "xpE83NvNnkdV"
   },
   "outputs": [
    {
     "name": "stdout",
     "output_type": "stream",
     "text": [
      "Epoch: 0 | Train loss: 0.170 | Test loss: 0.402\n",
      "Epoch: 20 | Train loss: 0.164 | Test loss: 0.386\n",
      "Epoch: 40 | Train loss: 0.157 | Test loss: 0.370\n",
      "Epoch: 60 | Train loss: 0.150 | Test loss: 0.353\n",
      "Epoch: 80 | Train loss: 0.143 | Test loss: 0.337\n",
      "Epoch: 100 | Train loss: 0.136 | Test loss: 0.321\n",
      "Epoch: 120 | Train loss: 0.129 | Test loss: 0.305\n",
      "Epoch: 140 | Train loss: 0.122 | Test loss: 0.289\n",
      "Epoch: 160 | Train loss: 0.116 | Test loss: 0.273\n",
      "Epoch: 180 | Train loss: 0.109 | Test loss: 0.256\n",
      "Epoch: 200 | Train loss: 0.102 | Test loss: 0.240\n",
      "Epoch: 220 | Train loss: 0.095 | Test loss: 0.224\n",
      "Epoch: 240 | Train loss: 0.088 | Test loss: 0.208\n",
      "Epoch: 260 | Train loss: 0.081 | Test loss: 0.192\n",
      "Epoch: 280 | Train loss: 0.074 | Test loss: 0.175\n",
      "Epoch: 300 | Train loss: 0.068 | Test loss: 0.159\n",
      "Epoch: 320 | Train loss: 0.061 | Test loss: 0.143\n",
      "Epoch: 340 | Train loss: 0.054 | Test loss: 0.127\n",
      "Epoch: 360 | Train loss: 0.047 | Test loss: 0.110\n",
      "Epoch: 380 | Train loss: 0.040 | Test loss: 0.094\n",
      "Epoch: 400 | Train loss: 0.033 | Test loss: 0.078\n",
      "Epoch: 420 | Train loss: 0.026 | Test loss: 0.062\n",
      "Epoch: 440 | Train loss: 0.020 | Test loss: 0.046\n",
      "Epoch: 460 | Train loss: 0.013 | Test loss: 0.029\n",
      "Epoch: 480 | Train loss: 0.006 | Test loss: 0.013\n"
     ]
    }
   ],
   "source": [
    "# Training loop\n",
    "epochs = 500\n",
    "\n",
    "\n",
    "# Train model for 300 epochs\n",
    "\n",
    "\n",
    "# Send data to target device\n",
    "#i don't have gpu if you are using gpu you can send to to target device like gpu or tpu\n",
    "\n",
    "for epoch in range(epochs):\n",
    "  ### Training\n",
    "\n",
    "  # Put model in train mode\n",
    "    model_0.train()\n",
    "\n",
    "  # 1. Forward pass\n",
    "    y_pred = model_0(X_train)\n",
    "\n",
    "\n",
    "  # 2. Calculate loss\n",
    "    loss = loss_fn(y_pred, y_train)\n",
    "\n",
    "  # 3. Zero gradients\n",
    "    optimizer.zero_grad()\n",
    "\n",
    "  # 4. Backpropagation\n",
    "    loss.backward()\n",
    "\n",
    "  # 5. Step the optimizer\n",
    "    optimizer.step()\n",
    "    \n",
    "    model_0.eval()\n",
    "    \n",
    "\n",
    "  ### Perform testing every 20 epochs\n",
    "    if epoch % 20 == 0:\n",
    "\n",
    "    # Put model in evaluation mode and setup inference context\n",
    "        with torch.inference_mode():\n",
    "            \n",
    "            \n",
    "      # 1. Forward pass\n",
    "           test_pred =  model_0(X_test)\n",
    "        \n",
    "\n",
    "      # 2. Calculate test loss\n",
    "           test_loss = loss_fn(test_pred,y_test)\n",
    "\n",
    "      # Print out what's happening\n",
    "        print(f\"Epoch: {epoch} | Train loss: {loss:.3f} | Test loss: {test_loss:.3f}\")"
   ]
  },
  {
   "cell_type": "markdown",
   "metadata": {
    "id": "x4j4TM18jwa7"
   },
   "source": [
    "## 4. Make predictions with the trained model on the test data.\n",
    "  * Visualize these predictions against the original training and testing data (**note:** you may need to make sure the predictions are *not* on the GPU if you want to use non-CUDA-enabled libraries such as matplotlib to plot)."
   ]
  },
  {
   "cell_type": "code",
   "execution_count": 21,
   "metadata": {
    "id": "bbMPK5Qjjyx_"
   },
   "outputs": [
    {
     "data": {
      "text/plain": [
       "tensor([1.1407, 1.1436, 1.1466, 1.1496, 1.1525, 1.1555, 1.1584, 1.1614, 1.1643,\n",
       "        1.1673, 1.1702, 1.1732, 1.1761, 1.1791, 1.1820, 1.1850, 1.1879, 1.1909,\n",
       "        1.1938, 1.1968])"
      ]
     },
     "execution_count": 21,
     "metadata": {},
     "output_type": "execute_result"
    }
   ],
   "source": [
    "# Make predictions with the model\n",
    "with torch.inference_mode():\n",
    "    y_pred_new = model_0(X_test)\n",
    "y_pred_new"
   ]
  },
  {
   "cell_type": "code",
   "execution_count": 24,
   "metadata": {},
   "outputs": [
    {
     "data": {
      "text/plain": [
       "OrderedDict([('weight', tensor([0.2951])), ('bias', tensor([0.9046]))])"
      ]
     },
     "execution_count": 24,
     "metadata": {},
     "output_type": "execute_result"
    }
   ],
   "source": [
    "model_0.state_dict()"
   ]
  },
  {
   "cell_type": "code",
   "execution_count": 22,
   "metadata": {
    "id": "K3BdmQaDpFo8"
   },
   "outputs": [
    {
     "data": {
      "image/png": "[encoded data removed]",
      "text/plain": [
       "<Figure size 700x500 with 1 Axes>"
      ]
     },
     "metadata": {},
     "output_type": "display_data"
    }
   ],
   "source": [
    "# Plot the predictions (these may need to be on a specific device)\n",
    "PlotPrediction(predictions=y_pred_new)"
   ]
  },
  {
   "cell_type": "markdown",
   "metadata": {
    "id": "s2OnlMWKjzX8"
   },
   "source": [
    "## 5. Save your trained model's `state_dict()` to file.\n",
    "  * Create a new instance of your model class you made in 2. and load in the `state_dict()` you just saved to it.\n",
    "  * Perform predictions on your test data with the loaded model and confirm they match the original model predictions from 4."
   ]
  },
  {
   "cell_type": "code",
   "execution_count": 27,
   "metadata": {
    "id": "hgxhgD14qr-i"
   },
   "outputs": [
    {
     "name": "stdout",
     "output_type": "stream",
     "text": [
      "Saving the Model Excersice Model\\01_pytorch_workflow_exerice_model.pth\n"
     ]
    }
   ],
   "source": [
    "from pathlib import Path\n",
    "\n",
    "# 1. Create models directory\n",
    "MODEL_PATH = Path(\"Excersice Model\")\n",
    "MODEL_PATH.mkdir(parents=True, exist_ok = True)\n",
    "\n",
    "# 2. Create model save path\n",
    "MODEL_NAME = '01_pytorch_workflow_exerice_model.pth'\n",
    "MODEL_SAVE_PATH  = MODEL_PATH / MODEL_NAME\n",
    "\n",
    "# 3. Save the model state dict\n",
    "print(f'Saving the Model {MODEL_SAVE_PATH}')\n",
    "torch.save(obj=model_0.state_dict(), f=MODEL_SAVE_PATH)"
   ]
  },
  {
   "cell_type": "code",
   "execution_count": 29,
   "metadata": {
    "id": "P9vTgiLRrJ7T"
   },
   "outputs": [
    {
     "data": {
      "text/plain": [
       "OrderedDict([('weight', tensor([-0.5439])), ('bias', tensor([0.4550]))])"
      ]
     },
     "execution_count": 29,
     "metadata": {},
     "output_type": "execute_result"
    }
   ],
   "source": [
    "# Create new instance of model and load saved state dict (make sure to put it on the target device)\n",
    "loaded_model = LinearRegressionModel()\n",
    "loaded_model.state_dict()"
   ]
  },
  {
   "cell_type": "code",
   "execution_count": 30,
   "metadata": {},
   "outputs": [
    {
     "data": {
      "text/plain": [
       "<All keys matched successfully>"
      ]
     },
     "execution_count": 30,
     "metadata": {},
     "output_type": "execute_result"
    }
   ],
   "source": [
    "loaded_model.load_state_dict(torch.load(MODEL_SAVE_PATH))"
   ]
  },
  {
   "cell_type": "code",
   "execution_count": 31,
   "metadata": {},
   "outputs": [
    {
     "data": {
      "text/plain": [
       "OrderedDict([('weight', tensor([0.2951])), ('bias', tensor([0.9046]))])"
      ]
     },
     "execution_count": 31,
     "metadata": {},
     "output_type": "execute_result"
    }
   ],
   "source": [
    "loaded_model.state_dict()"
   ]
  },
  {
   "cell_type": "code",
   "execution_count": 32,
   "metadata": {},
   "outputs": [
    {
     "data": {
      "text/plain": [
       "tensor([1.1407, 1.1436, 1.1466, 1.1496, 1.1525, 1.1555, 1.1584, 1.1614, 1.1643,\n",
       "        1.1673, 1.1702, 1.1732, 1.1761, 1.1791, 1.1820, 1.1850, 1.1879, 1.1909,\n",
       "        1.1938, 1.1968])"
      ]
     },
     "execution_count": 32,
     "metadata": {},
     "output_type": "execute_result"
    }
   ],
   "source": [
    "loaded_model.eval()\n",
    "\n",
    "with torch.inference_mode():\n",
    "    loaded_model_pred = loaded_model(X_test)\n",
    "    load_model_loss = loss_fn(loaded_model_pred,y_test)\n",
    "loaded_model_pred"
   ]
  },
  {
   "cell_type": "code",
   "execution_count": 33,
   "metadata": {
    "id": "8UGX3VebrVtI"
   },
   "outputs": [
    {
     "data": {
      "text/plain": [
       "tensor([True, True, True, True, True, True, True, True, True, True, True, True,\n",
       "        True, True, True, True, True, True, True, True])"
      ]
     },
     "execution_count": 33,
     "metadata": {},
     "output_type": "execute_result"
    }
   ],
   "source": [
    "# Make predictions with loaded model and compare them to the previous\n",
    "loaded_model_pred  == y_pred_new"
   ]
  },
  {
   "cell_type": "code",
   "execution_count": 36,
   "metadata": {},
   "outputs": [
    {
     "data": {
      "image/png": "[encoded data removed]",
      "text/plain": [
       "<Figure size 700x500 with 1 Axes>"
      ]
     },
     "metadata": {},
     "output_type": "display_data"
    }
   ],
   "source": [
    "PlotPrediction(predictions=loaded_model_pred)"
   ]
  },
  {
   "cell_type": "code",
   "execution_count": null,
   "metadata": {},
   "outputs": [],
   "source": []
  }
 ],
 "metadata": {
  "accelerator": "GPU",
  "colab": {
   "name": "01_pytorch_workflow_exercises.ipynb",
   "provenance": []
  },
  "kernelspec": {
   "display_name": "Python 3 (ipykernel)",
   "language": "python",
   "name": "python3"
  },
  "language_info": {
   "codemirror_mode": {
    "name": "ipython",
    "version": 3
   },
   "file_extension": ".py",
   "mimetype": "text/x-python",
   "name": "python",
   "nbconvert_exporter": "python",
   "pygments_lexer": "ipython3",
   "version": "3.9.12"
  }
 },
 "nbformat": 4,
 "nbformat_minor": 4
}
