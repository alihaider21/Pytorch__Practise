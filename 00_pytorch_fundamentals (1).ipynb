{
 "cells": [
  {
   "cell_type": "code",
   "execution_count": 1,
   "metadata": {
    "colab": {
     "base_uri": "https://localhost:8080/"
    },
    "id": "ta_nd8Wd6TME",
    "outputId": "9b4c0df8-9900-4d5e-e716-983187307d77"
   },
   "outputs": [
    {
     "name": "stdout",
     "output_type": "stream",
     "text": [
      "1.12.1\n"
     ]
    }
   ],
   "source": [
    "import torch\n",
    "import numpy as np\n",
    "import pandas as pd\n",
    "import matplotlib.pyplot as plt\n",
    "print(torch.__version__)"
   ]
  },
  {
   "cell_type": "markdown",
   "metadata": {
    "id": "uEMoQaMn9oEZ"
   },
   "source": [
    "## Introduction of tensors"
   ]
  },
  {
   "cell_type": "markdown",
   "metadata": {
    "id": "Cf4DYUdT91bb"
   },
   "source": [
    "#### creating tensors"
   ]
  },
  {
   "cell_type": "code",
   "execution_count": 2,
   "metadata": {
    "colab": {
     "base_uri": "https://localhost:8080/"
    },
    "id": "ZnDrl2XE9ye3",
    "outputId": "79c047e0-9697-468b-f603-a68655a1c7e9"
   },
   "outputs": [
    {
     "data": {
      "text/plain": [
       "tensor(7)"
      ]
     },
     "execution_count": 2,
     "metadata": {},
     "output_type": "execute_result"
    }
   ],
   "source": [
    "#scalar\n",
    "scaler = torch.tensor(7)\n",
    "scaler"
   ]
  },
  {
   "cell_type": "code",
   "execution_count": 3,
   "metadata": {
    "colab": {
     "base_uri": "https://localhost:8080/"
    },
    "id": "VVMjUiKI9fUk",
    "outputId": "4c6ef36d-43f0-42ca-c542-9734d5eb6461"
   },
   "outputs": [
    {
     "data": {
      "text/plain": [
       "0"
      ]
     },
     "execution_count": 3,
     "metadata": {},
     "output_type": "execute_result"
    }
   ],
   "source": [
    "scaler.ndim"
   ]
  },
  {
   "cell_type": "code",
   "execution_count": 4,
   "metadata": {
    "colab": {
     "base_uri": "https://localhost:8080/"
    },
    "id": "YyRxCJHA-18x",
    "outputId": "a6211b96-f06f-4ce5-b421-f69d44deaf26"
   },
   "outputs": [
    {
     "data": {
      "text/plain": [
       "7"
      ]
     },
     "execution_count": 4,
     "metadata": {},
     "output_type": "execute_result"
    }
   ],
   "source": [
    "#get tensor back as python int\n",
    "scaler.item()"
   ]
  },
  {
   "cell_type": "code",
   "execution_count": 5,
   "metadata": {
    "colab": {
     "base_uri": "https://localhost:8080/"
    },
    "id": "350EJ7Mt_POr",
    "outputId": "fb7b67b9-1855-4c79-f132-03b492d0d021"
   },
   "outputs": [
    {
     "data": {
      "text/plain": [
       "tensor([7, 7])"
      ]
     },
     "execution_count": 5,
     "metadata": {},
     "output_type": "execute_result"
    }
   ],
   "source": [
    "#vectors\n",
    "vector = torch.tensor([7,7])\n",
    "vector"
   ]
  },
  {
   "cell_type": "code",
   "execution_count": 6,
   "metadata": {
    "colab": {
     "base_uri": "https://localhost:8080/"
    },
    "id": "HnLFBTY__eoD",
    "outputId": "d138de7d-4347-4051-dc52-7c638d6bacea"
   },
   "outputs": [
    {
     "data": {
      "text/plain": [
       "1"
      ]
     },
     "execution_count": 6,
     "metadata": {},
     "output_type": "execute_result"
    }
   ],
   "source": [
    " vector.ndim"
   ]
  },
  {
   "cell_type": "code",
   "execution_count": 7,
   "metadata": {
    "colab": {
     "base_uri": "https://localhost:8080/"
    },
    "id": "vwi4vDva_lo1",
    "outputId": "6e705b2e-d95d-48e2-ee15-17ba2c7fbe63"
   },
   "outputs": [
    {
     "data": {
      "text/plain": [
       "tensor([[ 7,  8],\n",
       "        [ 9, 10]])"
      ]
     },
     "execution_count": 7,
     "metadata": {},
     "output_type": "execute_result"
    }
   ],
   "source": [
    "#Matrix\n",
    "\n",
    "MATRIX = torch.tensor([[7,8],\n",
    "                        [9,10 ] ])\n",
    "\n",
    "MATRIX"
   ]
  },
  {
   "cell_type": "code",
   "execution_count": 8,
   "metadata": {
    "colab": {
     "base_uri": "https://localhost:8080/"
    },
    "id": "BdIez1cq_yHx",
    "outputId": "1a04ded2-106a-45e3-c1bf-4164e111f20f"
   },
   "outputs": [
    {
     "data": {
      "text/plain": [
       "2"
      ]
     },
     "execution_count": 8,
     "metadata": {},
     "output_type": "execute_result"
    }
   ],
   "source": [
    "MATRIX.ndim"
   ]
  },
  {
   "cell_type": "code",
   "execution_count": 9,
   "metadata": {
    "colab": {
     "base_uri": "https://localhost:8080/"
    },
    "id": "tPC5jWP2AInJ",
    "outputId": "34f7562d-e6db-4f29-b3ad-ec3dbd96eeeb"
   },
   "outputs": [
    {
     "data": {
      "text/plain": [
       "tensor([[[1, 3, 2, 3],\n",
       "         [4, 7, 5, 2],\n",
       "         [2, 9, 5, 3]]])"
      ]
     },
     "execution_count": 9,
     "metadata": {},
     "output_type": "execute_result"
    }
   ],
   "source": [
    "# Tensor\n",
    "\n",
    "TENSOR = torch.tensor([[[1,3,2,3],\n",
    "                        [4,7,5,2],\n",
    "                        [2,9,5,3]]])\n",
    "\n",
    "TENSOR"
   ]
  },
  {
   "cell_type": "code",
   "execution_count": 10,
   "metadata": {
    "colab": {
     "base_uri": "https://localhost:8080/"
    },
    "id": "zfn-C5F-AaFq",
    "outputId": "7ba4d572-5c41-4dc6-ad6c-3b1fb5d2b37c"
   },
   "outputs": [
    {
     "data": {
      "text/plain": [
       "3"
      ]
     },
     "execution_count": 10,
     "metadata": {},
     "output_type": "execute_result"
    }
   ],
   "source": [
    "TENSOR.ndim"
   ]
  },
  {
   "cell_type": "code",
   "execution_count": 11,
   "metadata": {
    "colab": {
     "base_uri": "https://localhost:8080/"
    },
    "id": "W4_PY1IpA1pM",
    "outputId": "67806169-e425-44c4-8395-8fe03c0faf5e"
   },
   "outputs": [
    {
     "data": {
      "text/plain": [
       "torch.Size([1, 3, 4])"
      ]
     },
     "execution_count": 11,
     "metadata": {},
     "output_type": "execute_result"
    }
   ],
   "source": [
    "TENSOR.shape"
   ]
  },
  {
   "cell_type": "code",
   "execution_count": 12,
   "metadata": {
    "colab": {
     "base_uri": "https://localhost:8080/"
    },
    "id": "7AE_QCVVA7AC",
    "outputId": "e9972a55-ba96-4c4b-8e1c-bd9718262086"
   },
   "outputs": [
    {
     "data": {
      "text/plain": [
       "tensor([[0.3461, 0.4614, 0.2940, 0.0283],\n",
       "        [0.3814, 0.4784, 0.2759, 0.8877],\n",
       "        [0.5484, 0.2660, 0.3663, 0.9981]])"
      ]
     },
     "execution_count": 12,
     "metadata": {},
     "output_type": "execute_result"
    }
   ],
   "source": [
    "#create a random tensor of aize (3,4)\n",
    "random_tensor = torch.rand(3, 4)\n",
    "random_tensor"
   ]
  },
  {
   "cell_type": "code",
   "execution_count": 13,
   "metadata": {
    "colab": {
     "base_uri": "https://localhost:8080/"
    },
    "id": "e93S1_eRQGdB",
    "outputId": "5daf392d-ebc8-4c86-be96-f452dd043bb0"
   },
   "outputs": [
    {
     "data": {
      "text/plain": [
       "(torch.Size([3, 224, 224]), 3)"
      ]
     },
     "execution_count": 13,
     "metadata": {},
     "output_type": "execute_result"
    }
   ],
   "source": [
    " #create a random tensor with similar shape to an image tensor\n",
    "random_image_size_tensor = torch.rand(size=(3, 224,224))\n",
    "random_image_size_tensor.shape, random_image_size_tensor.ndim"
   ]
  },
  {
   "cell_type": "code",
   "execution_count": 14,
   "metadata": {
    "colab": {
     "base_uri": "https://localhost:8080/"
    },
    "id": "HmJ0OxwdR4x6",
    "outputId": "2317d227-721d-4072-d4cc-6aab5ae56195"
   },
   "outputs": [
    {
     "data": {
      "text/plain": [
       "tensor([[[0.5396, 0.7823, 0.7369,  ..., 0.5995, 0.1943, 0.7574],\n",
       "         [0.8786, 0.1281, 0.3779,  ..., 0.8484, 0.5877, 0.0346],\n",
       "         [0.4766, 0.6072, 0.3617,  ..., 0.4789, 0.7934, 0.1405],\n",
       "         ...,\n",
       "         [0.5384, 0.0551, 0.1419,  ..., 0.8493, 0.6894, 0.3314],\n",
       "         [0.4736, 0.5912, 0.5022,  ..., 0.1973, 0.7397, 0.4655],\n",
       "         [0.4751, 0.1936, 0.8859,  ..., 0.0545, 0.9686, 0.6875]],\n",
       "\n",
       "        [[0.8004, 0.6004, 0.7386,  ..., 0.9631, 0.2980, 0.5411],\n",
       "         [0.2039, 0.0833, 0.5805,  ..., 0.0756, 0.0132, 0.5884],\n",
       "         [0.5453, 0.7101, 0.2802,  ..., 0.3739, 0.1921, 0.9677],\n",
       "         ...,\n",
       "         [0.7911, 0.2352, 0.3777,  ..., 0.5130, 0.9325, 0.3255],\n",
       "         [0.5341, 0.7649, 0.9125,  ..., 0.2807, 0.9989, 0.0239],\n",
       "         [0.2875, 0.4496, 0.7401,  ..., 0.0023, 0.0305, 0.4458]],\n",
       "\n",
       "        [[0.1495, 0.3475, 0.0491,  ..., 0.8057, 0.5387, 0.7606],\n",
       "         [0.8323, 0.9848, 0.7858,  ..., 0.7794, 0.1385, 0.1927],\n",
       "         [0.1837, 0.0259, 0.6392,  ..., 0.3785, 0.9123, 0.2445],\n",
       "         ...,\n",
       "         [0.8311, 0.7997, 0.4459,  ..., 0.4946, 0.2266, 0.8362],\n",
       "         [0.4629, 0.9919, 0.6240,  ..., 0.8646, 0.3842, 0.0811],\n",
       "         [0.2827, 0.3290, 0.5051,  ..., 0.5163, 0.1372, 0.0288]]])"
      ]
     },
     "execution_count": 14,
     "metadata": {},
     "output_type": "execute_result"
    }
   ],
   "source": [
    "random_image_size_tensor"
   ]
  },
  {
   "cell_type": "code",
   "execution_count": 15,
   "metadata": {
    "colab": {
     "base_uri": "https://localhost:8080/"
    },
    "id": "48eY1pg-8BCe",
    "outputId": "f6702217-2b26-4540-aa3a-e6ae280a5f0a"
   },
   "outputs": [
    {
     "data": {
      "text/plain": [
       "tensor([[0.3212, 0.8909, 0.4357],\n",
       "        [0.9379, 0.2218, 0.9319],\n",
       "        [0.1468, 0.9699, 0.7393]])"
      ]
     },
     "execution_count": 15,
     "metadata": {},
     "output_type": "execute_result"
    }
   ],
   "source": [
    "torch.rand(3,3)"
   ]
  },
  {
   "cell_type": "markdown",
   "metadata": {
    "id": "3s8iC1v9GA30"
   },
   "source": [
    "#### Zeros and Ones Tensor\n"
   ]
  },
  {
   "cell_type": "code",
   "execution_count": 16,
   "metadata": {
    "colab": {
     "base_uri": "https://localhost:8080/"
    },
    "id": "7kYq792eF3a3",
    "outputId": "941debe7-79e9-4d01-e426-a1106e6f370f"
   },
   "outputs": [
    {
     "data": {
      "text/plain": [
       "tensor([[0., 0., 0., 0.],\n",
       "        [0., 0., 0., 0.],\n",
       "        [0., 0., 0., 0.],\n",
       "        [0., 0., 0., 0.]])"
      ]
     },
     "execution_count": 16,
     "metadata": {},
     "output_type": "execute_result"
    }
   ],
   "source": [
    "  # Create a tensor of all zeros\n",
    "  zeros = torch.zeros(4,4)\n",
    "  zeros"
   ]
  },
  {
   "cell_type": "code",
   "execution_count": 17,
   "metadata": {
    "colab": {
     "base_uri": "https://localhost:8080/"
    },
    "id": "GNsnErg_F3Xz",
    "outputId": "910de3b1-34b2-4011-8a94-0350df8cb5eb"
   },
   "outputs": [
    {
     "data": {
      "text/plain": [
       "tensor([[1., 1., 1., 1.],\n",
       "        [1., 1., 1., 1.],\n",
       "        [1., 1., 1., 1.],\n",
       "        [1., 1., 1., 1.]])"
      ]
     },
     "execution_count": 17,
     "metadata": {},
     "output_type": "execute_result"
    }
   ],
   "source": [
    "#create a tensor foall one\n",
    "ones = torch.ones(4,4)\n",
    "ones"
   ]
  },
  {
   "cell_type": "code",
   "execution_count": 18,
   "metadata": {
    "colab": {
     "base_uri": "https://localhost:8080/"
    },
    "id": "tNiKmdUVF3Ua",
    "outputId": "a3286f10-2dbe-48f6-909f-d65196407c42"
   },
   "outputs": [
    {
     "data": {
      "text/plain": [
       "torch.float32"
      ]
     },
     "execution_count": 18,
     "metadata": {},
     "output_type": "execute_result"
    }
   ],
   "source": [
    "ones.dtype"
   ]
  },
  {
   "cell_type": "markdown",
   "metadata": {
    "id": "G3VBvi47HSCD"
   },
   "source": [
    "### Creating a range of tensor and tensors-like"
   ]
  },
  {
   "cell_type": "code",
   "execution_count": 19,
   "metadata": {
    "colab": {
     "base_uri": "https://localhost:8080/"
    },
    "id": "F-0m9c0AF3Qw",
    "outputId": "3447354b-b1dd-45ed-c387-fb1a108522c3"
   },
   "outputs": [
    {
     "data": {
      "text/plain": [
       "tensor([  0,  60, 120, 180, 240, 300, 360, 420, 480, 540, 600, 660, 720, 780,\n",
       "        840, 900, 960])"
      ]
     },
     "execution_count": 19,
     "metadata": {},
     "output_type": "execute_result"
    }
   ],
   "source": [
    "# use torch.arange()\n",
    "one_to_thousand  = torch.arange(start=0, end = 1000, step=60)\n",
    "one_to_thousand"
   ]
  },
  {
   "cell_type": "code",
   "execution_count": 20,
   "metadata": {
    "colab": {
     "base_uri": "https://localhost:8080/"
    },
    "id": "F6BMg4aDF3Nn",
    "outputId": "4d2306c2-237d-4f89-acb7-5ba2dd84ab6b"
   },
   "outputs": [
    {
     "data": {
      "text/plain": [
       "tensor([0, 1, 2, 3, 4, 5, 6, 7, 8, 9])"
      ]
     },
     "execution_count": 20,
     "metadata": {},
     "output_type": "execute_result"
    }
   ],
   "source": [
    "# use torch.arange()\n",
    "one_to_ten = torch.arange(0,10,1)\n",
    "one_to_ten"
   ]
  },
  {
   "cell_type": "code",
   "execution_count": 21,
   "metadata": {
    "colab": {
     "base_uri": "https://localhost:8080/"
    },
    "id": "U9UnmHjYF3Jl",
    "outputId": "b1a4d02c-611d-428f-e74d-414196fbffef"
   },
   "outputs": [
    {
     "data": {
      "text/plain": [
       "tensor([0, 0, 0, 0, 0, 0, 0, 0, 0, 0])"
      ]
     },
     "execution_count": 21,
     "metadata": {},
     "output_type": "execute_result"
    }
   ],
   "source": [
    "#creating tensors like\n",
    "ten_zeros = torch.zeros_like(input=one_to_ten)\n",
    "ten_zeros"
   ]
  },
  {
   "cell_type": "markdown",
   "metadata": {
    "id": "L-0sbI3PMG3B"
   },
   "source": [
    "### Tensor **datatypes**"
   ]
  },
  {
   "cell_type": "code",
   "execution_count": 22,
   "metadata": {
    "colab": {
     "base_uri": "https://localhost:8080/"
    },
    "id": "nZ0geVyPF3GE",
    "outputId": "c91b9b5c-bc51-4147-82be-8383fc856063"
   },
   "outputs": [
    {
     "data": {
      "text/plain": [
       "tensor([3., 4., 5.])"
      ]
     },
     "execution_count": 22,
     "metadata": {},
     "output_type": "execute_result"
    }
   ],
   "source": [
    "#  float 32 Tensor\n",
    "float_32_tensor = torch.tensor([3.0,4.0,5.0],dtype=None, device=None, requires_grad=False)\n",
    "float_32_tensor"
   ]
  },
  {
   "cell_type": "code",
   "execution_count": 23,
   "metadata": {
    "colab": {
     "base_uri": "https://localhost:8080/"
    },
    "id": "Xq56ykxBF3DE",
    "outputId": "b3f9b6e0-6633-4b92-b5c2-f095e3a7de28"
   },
   "outputs": [
    {
     "data": {
      "text/plain": [
       "torch.float32"
      ]
     },
     "execution_count": 23,
     "metadata": {},
     "output_type": "execute_result"
    }
   ],
   "source": [
    "float_32_tensor.dtype"
   ]
  },
  {
   "cell_type": "code",
   "execution_count": 24,
   "metadata": {
    "id": "yjzTUqFaF2_3"
   },
   "outputs": [],
   "source": [
    "float_16_tensor = float_32_tensor.type(torch.float16)"
   ]
  },
  {
   "cell_type": "code",
   "execution_count": 25,
   "metadata": {
    "colab": {
     "base_uri": "https://localhost:8080/"
    },
    "id": "kzsbVYHMMA7f",
    "outputId": "c61d0ab4-4309-4189-d0ea-56ec89918d8f"
   },
   "outputs": [
    {
     "data": {
      "text/plain": [
       "tensor([3., 4., 5.], dtype=torch.float16)"
      ]
     },
     "execution_count": 25,
     "metadata": {},
     "output_type": "execute_result"
    }
   ],
   "source": [
    "float_16_tensor"
   ]
  },
  {
   "cell_type": "code",
   "execution_count": 26,
   "metadata": {
    "colab": {
     "base_uri": "https://localhost:8080/"
    },
    "id": "zDnWtklaF28p",
    "outputId": "93c7c7d9-b280-4766-ce94-290927636594"
   },
   "outputs": [
    {
     "data": {
      "text/plain": [
       "tensor([ 9., 16., 25.])"
      ]
     },
     "execution_count": 26,
     "metadata": {},
     "output_type": "execute_result"
    }
   ],
   "source": [
    "float_16_tensor * float_32_tensor"
   ]
  },
  {
   "cell_type": "code",
   "execution_count": 27,
   "metadata": {
    "id": "rFYRM8D3kh_j"
   },
   "outputs": [],
   "source": [
    "int_32_tensor = torch.tensor([1,3,2], dtype = torch.int32)"
   ]
  },
  {
   "cell_type": "code",
   "execution_count": 28,
   "metadata": {
    "colab": {
     "base_uri": "https://localhost:8080/"
    },
    "id": "lDxsSiXQkiBY",
    "outputId": "03dedab1-a4a6-4e3b-b12d-360da5c064bc"
   },
   "outputs": [
    {
     "data": {
      "text/plain": [
       "tensor([3., 4., 5.])"
      ]
     },
     "execution_count": 28,
     "metadata": {},
     "output_type": "execute_result"
    }
   ],
   "source": [
    "float_32_tensor"
   ]
  },
  {
   "cell_type": "markdown",
   "metadata": {
    "id": "YIOrUoLdI2J8"
   },
   "source": [
    "### Manipluation of Tensors\n",
    "Tensor opertions include:\n",
    "* Addition\n",
    "* Subtractions\n",
    "* Multipliaton\n",
    "* Division\n",
    "* Matrix Multiplicatoin\n",
    "\n"
   ]
  },
  {
   "cell_type": "code",
   "execution_count": 29,
   "metadata": {
    "colab": {
     "base_uri": "https://localhost:8080/"
    },
    "id": "Ucckzy8KkiEe",
    "outputId": "8ebb115b-2f71-49cb-8439-ff8759b019bc"
   },
   "outputs": [
    {
     "data": {
      "text/plain": [
       "tensor([11, 13, 12])"
      ]
     },
     "execution_count": 29,
     "metadata": {},
     "output_type": "execute_result"
    }
   ],
   "source": [
    "#Addition\n",
    "tensor = torch.tensor([1,3,2])\n",
    "tensor + 10"
   ]
  },
  {
   "cell_type": "code",
   "execution_count": 30,
   "metadata": {
    "colab": {
     "base_uri": "https://localhost:8080/"
    },
    "id": "OT_hOA8bkiJS",
    "outputId": "4ea04235-1ef7-480b-9cd5-e2cea76f664d"
   },
   "outputs": [
    {
     "data": {
      "text/plain": [
       "tensor([10, 30, 20])"
      ]
     },
     "execution_count": 30,
     "metadata": {},
     "output_type": "execute_result"
    }
   ],
   "source": [
    "# Multiply tesnor by 10\n",
    "tensor * 10"
   ]
  },
  {
   "cell_type": "code",
   "execution_count": 31,
   "metadata": {
    "colab": {
     "base_uri": "https://localhost:8080/"
    },
    "id": "aNVPlFlEF25S",
    "outputId": "0126970b-24be-4668-ce87-4bf6af7adc10"
   },
   "outputs": [
    {
     "data": {
      "text/plain": [
       "tensor([-9, -7, -8])"
      ]
     },
     "execution_count": 31,
     "metadata": {},
     "output_type": "execute_result"
    }
   ],
   "source": [
    "# Subtract 10\n",
    "tensor - 10"
   ]
  },
  {
   "cell_type": "markdown",
   "metadata": {
    "id": "hOKqcGxcMrhV"
   },
   "source": [
    "### Matrix Multiplicatoin\n",
    "\n",
    "\n",
    "Two main ways of perfoming multiplicatoin in neural networks and deep learning:\n",
    "1. Element-Wise Multiplication\n",
    "2. Matrix Multiplcation (Dot Product)\n",
    "\n",
    "There are two main rules that performing matrix multiplication needs to satisfy:\n",
    "\n",
    "1.  The **unner dimensions** must match\n",
    "* `(3, 2)  @  (3, 2)` won't work\n",
    "* `(2, 3)  @  (3, 2)` will work\n",
    "* `(3, 2)  @  (2, 3)` will work\n",
    "\n",
    "\n",
    "2. The resulting matrix has the of the **outer dimensions**:\n",
    "\n",
    "* `(2, 3) @ (3, 2) -> (2, 2)`\n",
    "* `(3, 2) @  (2, 3) -> (3, 3)`\n",
    "\n",
    "\n",
    "\n",
    "\n",
    "\n",
    "\n"
   ]
  },
  {
   "cell_type": "markdown",
   "metadata": {
    "id": "wg4iJMCxJbAG"
   },
   "source": [
    "\n"
   ]
  },
  {
   "cell_type": "code",
   "execution_count": 32,
   "metadata": {
    "colab": {
     "base_uri": "https://localhost:8080/"
    },
    "id": "Bkay5tgAJbCx",
    "outputId": "5f495efb-693b-49c6-fd9b-4bc078cfce4c"
   },
   "outputs": [
    {
     "name": "stdout",
     "output_type": "stream",
     "text": [
      "tensor([1, 3, 2]) * tensor([1, 3, 2])\n",
      "Equauls: tensor([1, 9, 4])\n"
     ]
    }
   ],
   "source": [
    "# Element Wise Multipliaton\n",
    "print(tensor, \"*\", tensor)\n",
    "print(f\"Equauls: {tensor * tensor}\")"
   ]
  },
  {
   "cell_type": "code",
   "execution_count": 33,
   "metadata": {
    "colab": {
     "base_uri": "https://localhost:8080/"
    },
    "id": "2pLQnZRSJbIB",
    "outputId": "de278478-17a7-46c5-b2af-a3c8a237d888"
   },
   "outputs": [
    {
     "data": {
      "text/plain": [
       "tensor(14)"
      ]
     },
     "execution_count": 33,
     "metadata": {},
     "output_type": "execute_result"
    }
   ],
   "source": [
    "# Matrix Multiplicaiotn\n",
    "torch.matmul(tensor, tensor)"
   ]
  },
  {
   "cell_type": "markdown",
   "metadata": {
    "id": "N5wlnuGKNYyi"
   },
   "source": [
    "### One of the most common errors in deep learning: shape errors"
   ]
  },
  {
   "cell_type": "code",
   "execution_count": 34,
   "metadata": {
    "id": "e-qjRotlNY1i"
   },
   "outputs": [],
   "source": [
    "tensor_A = torch.tensor([[1,2],\n",
    "                         [3,4],\n",
    "                         [5,6]])\n",
    "tensor_B = torch.tensor([[8,3],\n",
    "                         [4,5],\n",
    "                         [11,12]])"
   ]
  },
  {
   "cell_type": "code",
   "execution_count": 35,
   "metadata": {
    "colab": {
     "base_uri": "https://localhost:8080/",
     "height": 176
    },
    "id": "aJL3jbnGNY7a",
    "outputId": "d81ad340-843e-43d7-fb3a-cf17778c40f5"
   },
   "outputs": [
    {
     "ename": "RuntimeError",
     "evalue": "mat1 and mat2 shapes cannot be multiplied (3x2 and 3x2)",
     "output_type": "error",
     "traceback": [
      "\u001b[1;31m---------------------------------------------------------------------------\u001b[0m",
      "\u001b[1;31mRuntimeError\u001b[0m                              Traceback (most recent call last)",
      "Cell \u001b[1;32mIn[35], line 1\u001b[0m\n\u001b[1;32m----> 1\u001b[0m \u001b[43mtorch\u001b[49m\u001b[38;5;241;43m.\u001b[39;49m\u001b[43mmatmul\u001b[49m\u001b[43m(\u001b[49m\u001b[43mtensor_A\u001b[49m\u001b[43m,\u001b[49m\u001b[43m \u001b[49m\u001b[43mtensor_B\u001b[49m\u001b[43m)\u001b[49m \u001b[38;5;66;03m#torch.mm is the same as torch.matmul (it's na alias for writing less code )\u001b[39;00m\n",
      "\u001b[1;31mRuntimeError\u001b[0m: mat1 and mat2 shapes cannot be multiplied (3x2 and 3x2)"
     ]
    }
   ],
   "source": [
    "torch.matmul(tensor_A, tensor_B) #torch.mm is the same as torch.matmul (it's na alias for writing less code )"
   ]
  },
  {
   "cell_type": "code",
   "execution_count": null,
   "metadata": {
    "colab": {
     "base_uri": "https://localhost:8080/"
    },
    "id": "0HWxTsevNY9U",
    "outputId": "a0f5ee71-c6c0-486a-8700-31144ece76cd"
   },
   "outputs": [],
   "source": [
    "tensor_A.shape , tensor_B.shape"
   ]
  },
  {
   "cell_type": "markdown",
   "metadata": {
    "id": "H4YKZUWgNZCZ"
   },
   "source": [
    "To Fix our tensor shape issues, we can manipulate the shape of one of our tensors using a **transpose**\n",
    "\n",
    "A **transpose** switches the axes or dimensions of a given tensor."
   ]
  },
  {
   "cell_type": "code",
   "execution_count": null,
   "metadata": {
    "colab": {
     "base_uri": "https://localhost:8080/"
    },
    "id": "PGUpkwbJNZZs",
    "outputId": "80cc0cff-638b-4b62-b614-eee8dac99203"
   },
   "outputs": [],
   "source": [
    "tensor_B, tensor_B.shape"
   ]
  },
  {
   "cell_type": "code",
   "execution_count": null,
   "metadata": {
    "colab": {
     "base_uri": "https://localhost:8080/"
    },
    "id": "lIxG9UQzNZXm",
    "outputId": "73ebe6a1-1b2c-4d64-f9d7-cedf4637c3f9"
   },
   "outputs": [],
   "source": [
    "tensor_B.T , tensor_B.T.shape"
   ]
  },
  {
   "cell_type": "code",
   "execution_count": null,
   "metadata": {
    "colab": {
     "base_uri": "https://localhost:8080/"
    },
    "id": "chKhgt2NNZb3",
    "outputId": "f1ffdd02-0df2-4cb7-bf2d-689dfe7befea"
   },
   "outputs": [],
   "source": [
    "# The matrix multiplication operation works when tensor_B is transposed\n",
    "print(f\"Original shapes: tensor_A = {tensor_A.shape}, tensor_b = {tensor_B.shape} \")\n",
    "print(f\"New Shapes: tensor_A  = {tensor_A.shape} (same shape as above), tensor_B.T = {tensor_B.T.shape}\")\n",
    "print(f\"Multiplying: {tensor_A.shape} @ {tensor_B.T.shape} <- inner dimensions must match\")\n",
    "print(\"Output: \\n\")\n",
    "output = torch.matmul(tensor_A, tensor_B.T)\n",
    "print(output)\n",
    "print(f\"\\nOutput Shape: {output.shape}\")\n",
    "\n"
   ]
  },
  {
   "cell_type": "markdown",
   "metadata": {
    "id": "hClX0GyQNZj5"
   },
   "source": [
    "## Finding the min, max, mean, sum, etc (tensor aggregatoin)"
   ]
  },
  {
   "cell_type": "code",
   "execution_count": null,
   "metadata": {
    "colab": {
     "base_uri": "https://localhost:8080/"
    },
    "id": "np0m8QOQJbKl",
    "outputId": "d6088348-c0eb-4455-e746-4e22a0ef22e8"
   },
   "outputs": [],
   "source": [
    "# Create a tensor\n",
    "x= torch.arange(0, 100, 10)\n",
    "x"
   ]
  },
  {
   "cell_type": "code",
   "execution_count": null,
   "metadata": {
    "colab": {
     "base_uri": "https://localhost:8080/"
    },
    "id": "W7S7IlAIJbNm",
    "outputId": "f1580052-1f63-46df-9a47-4c642193530f"
   },
   "outputs": [],
   "source": [
    "# Find the min\n",
    "torch.min(x), x.min()\n"
   ]
  },
  {
   "cell_type": "code",
   "execution_count": null,
   "metadata": {
    "colab": {
     "base_uri": "https://localhost:8080/"
    },
    "id": "t1FpxlKoJbQm",
    "outputId": "da19d63b-42a5-448b-dffa-bfb239d8e54c"
   },
   "outputs": [],
   "source": [
    "# Find the max\n",
    "torch.max(x) , x.max()"
   ]
  },
  {
   "cell_type": "code",
   "execution_count": null,
   "metadata": {
    "colab": {
     "base_uri": "https://localhost:8080/"
    },
    "id": "ZJd97EpvJbTF",
    "outputId": "f269fa2b-ea19-4b8f-d5bd-d6c72aecb33e"
   },
   "outputs": [],
   "source": [
    "#find the mean - note : the torch.mean() function requires a tensor of float32 datatype to work\n",
    "torch.mean(x.type(torch.float32)) , x.type(torch.float32).mean()"
   ]
  },
  {
   "cell_type": "code",
   "execution_count": null,
   "metadata": {
    "colab": {
     "base_uri": "https://localhost:8080/"
    },
    "id": "IleoZeOja8XK",
    "outputId": "8d267821-7560-423c-80c1-ffa724604d8c"
   },
   "outputs": [],
   "source": [
    "# Find the sum\n",
    "torch.sum(x) , x.sum()"
   ]
  },
  {
   "cell_type": "markdown",
   "metadata": {
    "id": "yfX9y9tQa8ZN"
   },
   "source": [
    "## Finding the positional min and max"
   ]
  },
  {
   "cell_type": "code",
   "execution_count": null,
   "metadata": {
    "colab": {
     "base_uri": "https://localhost:8080/"
    },
    "id": "bdFPGWaOa8bR",
    "outputId": "2ebd5d91-d6a1-49e0-8978-8e573c4027b9"
   },
   "outputs": [],
   "source": [
    "x"
   ]
  },
  {
   "cell_type": "code",
   "execution_count": null,
   "metadata": {
    "colab": {
     "base_uri": "https://localhost:8080/"
    },
    "id": "YfwkSlafa8db",
    "outputId": "fcf93505-cb5a-4351-b083-37da881efcd3"
   },
   "outputs": [],
   "source": [
    "# Find the position in tensor that has the minimum value with argmin() -> returns index position of target tensor where the minimum value occurs\n",
    "x.argmin()"
   ]
  },
  {
   "cell_type": "code",
   "execution_count": null,
   "metadata": {
    "colab": {
     "base_uri": "https://localhost:8080/"
    },
    "id": "boEsBiAta8gC",
    "outputId": "b30bd98e-a6dd-47d2-aa9d-273998ae5c04"
   },
   "outputs": [],
   "source": [
    "x[0]"
   ]
  },
  {
   "cell_type": "code",
   "execution_count": null,
   "metadata": {
    "colab": {
     "base_uri": "https://localhost:8080/"
    },
    "id": "sCDGoNlCJbVx",
    "outputId": "c52bbf75-ef54-4452-fd0e-1e48b05ab575"
   },
   "outputs": [],
   "source": [
    "# Find the position in tensor that has the maximum value with argmin() -> returns index position of target tensor where the maximum value occurs\n",
    "x.argmax()"
   ]
  },
  {
   "cell_type": "code",
   "execution_count": null,
   "metadata": {
    "colab": {
     "base_uri": "https://localhost:8080/"
    },
    "id": "XcK9Z_IlJbaf",
    "outputId": "f0bb1c32-918b-4b87-8904-3b02f66bbfb2"
   },
   "outputs": [],
   "source": [
    "x[9]"
   ]
  },
  {
   "cell_type": "code",
   "execution_count": null,
   "metadata": {
    "colab": {
     "base_uri": "https://localhost:8080/"
    },
    "id": "5RBbiHq8Jbcj",
    "outputId": "b918fd74-5107-4cfb-bf0e-1dae1c7c4fe9"
   },
   "outputs": [],
   "source": [
    "x"
   ]
  },
  {
   "cell_type": "markdown",
   "metadata": {
    "id": "MWPuajeFs7gF"
   },
   "source": [
    "## Rehsaping, stacking, squeezing and unsqueezing tensors\n",
    "\n",
    "* Reshaping - reshapes an input tensor to a defined shape\n",
    "* View - Return a view of an input tensor of certain shape but keep the same memory a s the original tensors\n",
    "* Stacking - Combine Multiple tensors on top of each other (vstack) or sidy by side (hstack)\n",
    "* Squeeze - remove all `1` dimensions from a tensor\n",
    "* Unsqueeze - add a `1` dimension to a target tensor\n",
    "*  Permute  - Return a view of the input with dimensions permuted (swapped) in a certain way\n",
    "\n"
   ]
  },
  {
   "cell_type": "code",
   "execution_count": null,
   "metadata": {
    "colab": {
     "base_uri": "https://localhost:8080/"
    },
    "id": "bydVtJ7UQBU5",
    "outputId": "f5896596-af30-49c1-e612-a335d5f0029a"
   },
   "outputs": [],
   "source": [
    "# Let's create a tensor\n",
    "import torch\n",
    "x = torch.arange(1. , 10.)\n",
    "x, x.shape"
   ]
  },
  {
   "cell_type": "code",
   "execution_count": null,
   "metadata": {
    "colab": {
     "base_uri": "https://localhost:8080/"
    },
    "id": "oV_yj_q7QBmC",
    "outputId": "610f2767-804c-4cc2-a4f5-185723dfa05b"
   },
   "outputs": [],
   "source": [
    "# Add an extra dimension\n",
    "x_reshaped = x.reshape(1, 9)\n",
    "x_reshaped , x_reshaped.shape"
   ]
  },
  {
   "cell_type": "code",
   "execution_count": null,
   "metadata": {
    "colab": {
     "base_uri": "https://localhost:8080/"
    },
    "id": "n3ksrvg6QBo1",
    "outputId": "7a9373d7-dd22-452c-9b2d-dd99c941cc52"
   },
   "outputs": [],
   "source": [
    "# Change the view\n",
    "z = x.view(1, 9)\n",
    "z, z.shape"
   ]
  },
  {
   "cell_type": "code",
   "execution_count": null,
   "metadata": {
    "colab": {
     "base_uri": "https://localhost:8080/"
    },
    "id": "Vpu1u24FQBrQ",
    "outputId": "3f668b73-26f7-4f6e-b5a5-be79b61753c9"
   },
   "outputs": [],
   "source": [
    "# Changing z changes x (because a view of a tensor sahres the same memory as the original input )\n",
    "z[:, 0] = 5\n",
    "z , x"
   ]
  },
  {
   "cell_type": "code",
   "execution_count": null,
   "metadata": {
    "colab": {
     "base_uri": "https://localhost:8080/"
    },
    "id": "1E7U2XI4s7jJ",
    "outputId": "7c43087c-3318-4400-89c2-407021ab7812"
   },
   "outputs": [],
   "source": [
    "# Stack tensors on top of each other\n",
    "x_stacked = torch.stack([x, x, x, x], dim=1)\n",
    "x_stacked"
   ]
  },
  {
   "cell_type": "code",
   "execution_count": null,
   "metadata": {
    "colab": {
     "base_uri": "https://localhost:8080/"
    },
    "id": "FowTnDKNs7ti",
    "outputId": "2cc19004-a61b-4ccd-b861-582f28122565"
   },
   "outputs": [],
   "source": []
  },
  {
   "cell_type": "code",
   "execution_count": null,
   "metadata": {
    "colab": {
     "base_uri": "https://localhost:8080/"
    },
    "id": "eeTXE2OmB7m-",
    "outputId": "4e8d754c-5cee-472a-c13e-8e4bade86f53"
   },
   "outputs": [],
   "source": [
    "x_reshaped.shape"
   ]
  },
  {
   "cell_type": "code",
   "execution_count": null,
   "metadata": {
    "colab": {
     "base_uri": "https://localhost:8080/"
    },
    "id": "Gqc1ajZHB7vs",
    "outputId": "939057da-808d-42ed-d1eb-98147b5c57e4"
   },
   "outputs": [],
   "source": [
    "x_reshaped.squeeze()"
   ]
  },
  {
   "cell_type": "code",
   "execution_count": null,
   "metadata": {
    "id": "_HazKWZEB77t"
   },
   "outputs": [],
   "source": [
    "x_reshaped.squeeze().size()"
   ]
  },
  {
   "cell_type": "code",
   "execution_count": null,
   "metadata": {},
   "outputs": [],
   "source": [
    "# torch.squeee() - remove all single dimensions froma target tensor\n",
    "print(f\"Previous tensor: {x_reshaped}\")\n",
    "print(f'previous shape: {x_reshaped.shape} ')\n",
    "\n",
    "#remove extra dimensions from x_reshaped\n",
    "x_sequeezed = x_reshaped.squeeze()\n",
    "print(f\"\\n New tensor: {x_sequeezed}\")\n",
    "print(f\"\\n New shape: {x_sequeezed.shape}\")"
   ]
  },
  {
   "cell_type": "code",
   "execution_count": null,
   "metadata": {
    "id": "d973sdwos7xI"
   },
   "outputs": [],
   "source": [
    "# torch.unsqueeze() - adds a single dimensino to a target tensor at specfic dim \n",
    "print(f\"Previous target: {x_sequeezed}\")\n",
    "print(f\"Previous Shape: {x_sequeezed.shape}\")\n",
    "      \n",
    "# Add on extra dimension with unsqueeze\n",
    "x_unsqueezed = x_sequeezed.unsqueeze(dim=0)\n",
    "print(f\"\\nNew Tensor: {x_unsqueezed}\")\n",
    "print(f\"New Shape: {x_unsqueezed.shape} \")"
   ]
  },
  {
   "cell_type": "code",
   "execution_count": null,
   "metadata": {},
   "outputs": [],
   "source": [
    "# torch.permute - rearranges the dimensions of a target tensor in a specfied order\n",
    "x_original = torch.rand(size=(224, 224, 3)) #[height, width, colour_channels]\n",
    "\n",
    "#permute the original tensor to arearrange the axis (or dim) order\n",
    "x_permuted = x_original.permute(2,0,1)\n",
    "print(f\" Previous shape: {x_original.shape}\")\n",
    "print(f\" New shape: {x_permuted.shape}\")"
   ]
  },
  {
   "cell_type": "code",
   "execution_count": null,
   "metadata": {},
   "outputs": [],
   "source": [
    "x_original[0, 0, 0] = 33443\n",
    "x_original[0, 0, 0], x_permuted[0, 0, 0]"
   ]
  },
  {
   "cell_type": "markdown",
   "metadata": {},
   "source": [
    "## Indexing (selecting data from tensors)\n",
    "\n",
    "Indexing with pytorch is similar to indexing with Numpy."
   ]
  },
  {
   "cell_type": "code",
   "execution_count": null,
   "metadata": {},
   "outputs": [],
   "source": [
    "# Creating a tensor\n",
    "x = torch.arange(1, 10).reshape(1 , 3 , 3)\n",
    "x, x.shape"
   ]
  },
  {
   "cell_type": "code",
   "execution_count": null,
   "metadata": {},
   "outputs": [],
   "source": [
    "# Let's index on our new tensor\n",
    "x[0]"
   ]
  },
  {
   "cell_type": "code",
   "execution_count": null,
   "metadata": {},
   "outputs": [],
   "source": [
    "# Let's index on middle bracked\n",
    "x[0][0]"
   ]
  },
  {
   "cell_type": "code",
   "execution_count": null,
   "metadata": {
    "id": "KVAKMomws70x"
   },
   "outputs": [],
   "source": [
    "#let index on the most inner bracket\n",
    "x[0][0][0]"
   ]
  },
  {
   "cell_type": "code",
   "execution_count": null,
   "metadata": {
    "id": "RIi_1Hacs75S"
   },
   "outputs": [],
   "source": [
    "x[0][2][2]"
   ]
  },
  {
   "cell_type": "code",
   "execution_count": null,
   "metadata": {},
   "outputs": [],
   "source": [
    "# get all values of the 0th and 1st dimension but only index 1 of 2n dimensino\n",
    "x[:,:,1]"
   ]
  },
  {
   "cell_type": "code",
   "execution_count": null,
   "metadata": {},
   "outputs": [],
   "source": [
    "# Get all values of the zero dimension but only the 1 index value of 1st and 2nd dim \n",
    "x[:,1,1]"
   ]
  },
  {
   "cell_type": "markdown",
   "metadata": {},
   "source": [
    "## Pytroch Tensors and numpy\n",
    "\n",
    "Numpy is a popular scientific Python numerical computing library\n",
    "\n",
    "And because of this, PyTorch has functionality to interact with it.\n",
    "\n",
    "* Data in Numpy, want in PyTorch tensor -> `torch.from_numpy(ndarray)`\n",
    "* PyTorch tensor -> numpy -> `torch.Tensor.numpy()`\n",
    "\n"
   ]
  },
  {
   "cell_type": "code",
   "execution_count": null,
   "metadata": {},
   "outputs": [],
   "source": [
    "# Numpy array to tensor\n",
    "import torch\n",
    "import numpy as np\n",
    "\n",
    "array  = np.arange(1.0,8.0)\n",
    "tensor = torch.from_numpy(array)\n",
    "array, tensor"
   ]
  },
  {
   "cell_type": "code",
   "execution_count": null,
   "metadata": {},
   "outputs": [],
   "source": [
    "array.dtype"
   ]
  },
  {
   "cell_type": "code",
   "execution_count": null,
   "metadata": {},
   "outputs": [],
   "source": [
    "tensor.dtype"
   ]
  },
  {
   "cell_type": "code",
   "execution_count": null,
   "metadata": {},
   "outputs": [],
   "source": [
    "# Change the value of array, what will this do to `tensor`?\n",
    "array = array + 1\n",
    "array, tensor"
   ]
  },
  {
   "cell_type": "code",
   "execution_count": null,
   "metadata": {},
   "outputs": [],
   "source": [
    "# Tensor to Numpy array\n",
    "tensor = torch.ones(7)\n",
    "numpy_tensor = tensor.numpy()\n",
    "tensor, numpy_tensor"
   ]
  },
  {
   "cell_type": "code",
   "execution_count": null,
   "metadata": {},
   "outputs": [],
   "source": [
    "numpy_tensor.dtype"
   ]
  },
  {
   "cell_type": "markdown",
   "metadata": {},
   "source": [
    "## Reproducbillity (Trying to take random out of random)\n",
    "\n",
    "In short how a neural network learns:\n",
    "\n",
    "`start with random numbers -> tensor operatinos -> update random number to try and make them better representations of the data -> again -> again -> again ->.`\n",
    "\n",
    "To Reduce the randomness in neural networks and Pytorch come the concept of **random seed**.\n",
    "\n",
    "Essentially what the random seed does is \"flabour\" the randomness"
   ]
  },
  {
   "cell_type": "code",
   "execution_count": null,
   "metadata": {},
   "outputs": [],
   "source": [
    "import torch\n",
    "\n",
    "# Create two Random tensors\n",
    "random_tensor_A = torch.rand(3, 4)\n",
    "random_tensor_B = torch.rand(3, 4)\n",
    "\n",
    "print(random_tensor_A)\n",
    "print(random_tensor_B)\n",
    "print(random_tensor_A == random_tensor_B)"
   ]
  },
  {
   "cell_type": "code",
   "execution_count": null,
   "metadata": {},
   "outputs": [],
   "source": [
    "#  Let's ame some random but reproducible tensors\n",
    "\n",
    "# set the random see\n",
    "RANDOM_SEED = 42\n",
    "torch.manual_seed(RANDOM_SEED)\n",
    "\n",
    "random_tensor_C = torch.rand(3, 4)\n",
    "\n",
    "torch.manual_seed(RANDOM_SEED)\n",
    "\n",
    "random_tensor_D = torch.rand(3, 4)\n",
    "\n",
    "print(random_tensor_C)\n",
    "print(random_tensor_D)\n",
    "print(random_tensor_C == random_tensor_D)"
   ]
  },
  {
   "cell_type": "code",
   "execution_count": null,
   "metadata": {},
   "outputs": [],
   "source": [
    "# Setip Device agnostic code\n",
    "device = \"cuda\" if torch.cuda.is_available() else \"cpu\"\n",
    "device"
   ]
  },
  {
   "cell_type": "markdown",
   "metadata": {},
   "source": [
    "## 3. Putting tensors (and models) on the GPU\n",
    "\n",
    "The reason we want our tensors/modles on the GPU is because a GPU results in faster computation"
   ]
  },
  {
   "cell_type": "code",
   "execution_count": null,
   "metadata": {},
   "outputs": [],
   "source": [
    "# Create a tensor (default on the CPU)\n",
    "tensor = torch.tensor([1, 2, 3], device='cpu')\n",
    "\n",
    "# Tensor not on GPU\n",
    "print(tensor, tensor.device)"
   ]
  },
  {
   "cell_type": "code",
   "execution_count": null,
   "metadata": {},
   "outputs": [],
   "source": [
    "# Move tensor to GPU (if available)\n",
    "tensor_on_gpu = tensor.to(device)\n",
    "tensor_on_gpu"
   ]
  },
  {
   "cell_type": "markdown",
   "metadata": {},
   "source": [
    "## 4. Moving tensor back to the CPU"
   ]
  },
  {
   "cell_type": "code",
   "execution_count": null,
   "metadata": {},
   "outputs": [],
   "source": [
    "# IF tensor is on GPU, can't transform it to Numpy\n",
    "# Note: My tensor is just gpu by name. it's not gpu tensor because i don'g have gpu. if you have gpu tensor you cannot convert it into numpy\n",
    "tensor_on_gpu.numpy()"
   ]
  },
  {
   "cell_type": "code",
   "execution_count": null,
   "metadata": {},
   "outputs": [],
   "source": [
    "# To Fix the GPU tensor with NumPy issue, we can first set it to the CPU\n",
    "tensor_back_on_cpu = tensor_on_gpu.cpu().numpy()\n",
    "tensor_back_on_cpu"
   ]
  },
  {
   "cell_type": "code",
   "execution_count": null,
   "metadata": {},
   "outputs": [],
   "source": []
  },
  {
   "cell_type": "code",
   "execution_count": null,
   "metadata": {},
   "outputs": [],
   "source": []
  },
  {
   "cell_type": "code",
   "execution_count": null,
   "metadata": {},
   "outputs": [],
   "source": []
  },
  {
   "cell_type": "code",
   "execution_count": null,
   "metadata": {},
   "outputs": [],
   "source": []
  },
  {
   "cell_type": "code",
   "execution_count": null,
   "metadata": {},
   "outputs": [],
   "source": []
  },
  {
   "cell_type": "code",
   "execution_count": null,
   "metadata": {},
   "outputs": [],
   "source": []
  },
  {
   "cell_type": "code",
   "execution_count": null,
   "metadata": {},
   "outputs": [],
   "source": []
  },
  {
   "cell_type": "code",
   "execution_count": null,
   "metadata": {},
   "outputs": [],
   "source": []
  },
  {
   "cell_type": "code",
   "execution_count": null,
   "metadata": {},
   "outputs": [],
   "source": []
  },
  {
   "cell_type": "code",
   "execution_count": null,
   "metadata": {},
   "outputs": [],
   "source": []
  },
  {
   "cell_type": "code",
   "execution_count": null,
   "metadata": {},
   "outputs": [],
   "source": []
  },
  {
   "cell_type": "code",
   "execution_count": null,
   "metadata": {},
   "outputs": [],
   "source": []
  },
  {
   "cell_type": "code",
   "execution_count": null,
   "metadata": {},
   "outputs": [],
   "source": []
  },
  {
   "cell_type": "code",
   "execution_count": null,
   "metadata": {},
   "outputs": [],
   "source": []
  },
  {
   "cell_type": "code",
   "execution_count": null,
   "metadata": {},
   "outputs": [],
   "source": []
  },
  {
   "cell_type": "code",
   "execution_count": null,
   "metadata": {
    "id": "bLPHXUd-s784"
   },
   "outputs": [],
   "source": []
  },
  {
   "cell_type": "code",
   "execution_count": null,
   "metadata": {
    "id": "L24lovAUs8BO"
   },
   "outputs": [],
   "source": []
  },
  {
   "cell_type": "code",
   "execution_count": null,
   "metadata": {
    "id": "eqJd6-A2s8G9"
   },
   "outputs": [],
   "source": []
  },
  {
   "cell_type": "code",
   "execution_count": null,
   "metadata": {
    "id": "G1gpLFnXs8Ov"
   },
   "outputs": [],
   "source": []
  }
 ],
 "metadata": {
  "colab": {
   "provenance": []
  },
  "kernelspec": {
   "display_name": "Python 3 (ipykernel)",
   "language": "python",
   "name": "python3"
  },
  "language_info": {
   "codemirror_mode": {
    "name": "ipython",
    "version": 3
   },
   "file_extension": ".py",
   "mimetype": "text/x-python",
   "name": "python",
   "nbconvert_exporter": "python",
   "pygments_lexer": "ipython3",
   "version": "3.9.12"
  }
 },
 "nbformat": 4,
 "nbformat_minor": 4
}
